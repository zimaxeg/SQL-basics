{
 "cells": [
  {
   "cell_type": "code",
   "execution_count": 1,
   "metadata": {},
   "outputs": [],
   "source": [
    "% load_ext sql"
   ]
  },
  {
   "cell_type": "code",
   "execution_count": 2,
   "metadata": {},
   "outputs": [
    {
     "data": {
      "text/plain": [
       "'Connected: @None'"
      ]
     },
     "execution_count": 2,
     "metadata": {},
     "output_type": "execute_result"
    }
   ],
   "source": [
    "%sql sqlite://"
   ]
  },
  {
   "cell_type": "code",
   "execution_count": 3,
   "metadata": {},
   "outputs": [
    {
     "name": "stdout",
     "output_type": "stream",
     "text": [
      " * sqlite://\n",
      "Done.\n"
     ]
    },
    {
     "data": {
      "text/plain": [
       "[]"
      ]
     },
     "execution_count": 3,
     "metadata": {},
     "output_type": "execute_result"
    }
   ],
   "source": [
    "%%sql\n",
    "\n",
    "CREATE TABLE EMPLOYEES (\n",
    "                            EMP_ID CHAR(9) NOT NULL, \n",
    "                            F_NAME VARCHAR(15) NOT NULL,\n",
    "                            L_NAME VARCHAR(15) NOT NULL,\n",
    "                            SSN CHAR(9),\n",
    "                            B_DATE DATE,\n",
    "                            SEX CHAR,\n",
    "                            ADDRESS VARCHAR(30),\n",
    "                            JOB_ID CHAR(9),\n",
    "                            SALARY DECIMAL(10,2),\n",
    "                            MANAGER_ID CHAR(9),\n",
    "                            DEP_ID CHAR(9) NOT NULL,\n",
    "                            PRIMARY KEY (EMP_ID));"
   ]
  },
  {
   "cell_type": "code",
   "execution_count": 4,
   "metadata": {},
   "outputs": [
    {
     "name": "stdout",
     "output_type": "stream",
     "text": [
      " * sqlite://\n",
      "Done.\n"
     ]
    },
    {
     "data": {
      "text/plain": [
       "[]"
      ]
     },
     "execution_count": 4,
     "metadata": {},
     "output_type": "execute_result"
    }
   ],
   "source": [
    "%%sql \n",
    "\n",
    "CREATE TABLE DEPARTMENTS (\n",
    "                            DEPT_ID_DEP CHAR(9) NOT NULL, \n",
    "                            DEP_NAME VARCHAR(15) ,\n",
    "                            MANAGER_ID CHAR(9),\n",
    "                            LOC_ID CHAR(9),\n",
    "                            PRIMARY KEY (DEPT_ID_DEP));\n"
   ]
  },
  {
   "cell_type": "code",
   "execution_count": 5,
   "metadata": {},
   "outputs": [
    {
     "name": "stdout",
     "output_type": "stream",
     "text": [
      " * sqlite://\n",
      "10 rows affected.\n"
     ]
    },
    {
     "data": {
      "text/plain": [
       "[]"
      ]
     },
     "execution_count": 5,
     "metadata": {},
     "output_type": "execute_result"
    }
   ],
   "source": [
    "%%sql\n",
    "\n",
    "insert into EMPLOYEES\n",
    "(EMP_ID, F_NAME, L_NAME, SSN, B_DATE, SEX, ADDRESS, JOB_ID, SALARY, MANAGER_ID, DEP_ID)\n",
    "VALUES\n",
    "('E1001','John', 'Thomas','123456','01/09/1976','M','\"5631 Rice, OakPark,IL\"','100','100000','30001','2'),\n",
    "('E1002','Alice','James','123457','07/31/1972','F',\"980 Berry ln, Elgin,IL\",'200','80000','30002','5'),\n",
    "('E1003','Steve','Wells','123458','08/10/1980','M',\"291 Springs, Gary,IL\",'300','50000','30002','5'),\n",
    "('E1004','Santosh','Kumar','123459','07/20/1985','M',\"511 Aurora Av, Aurora,IL\",'400','60000','30004','5'),\n",
    "('E1005','Ahmed','Hussain','123410','01/04/1981','M',\"216 Oak Tree, Geneva,IL\",'500','70000','30001','2'),\n",
    "('E1006','Nancy','Allen','123411','02/06/1978','F',\"111 Green Pl, Elgin,IL\",'600','90000','30001','2'),\n",
    "('E1007','Mary','Thomas','123412','05/05/1975','F',\"100 Rose Pl, Gary,IL\",'650','65000','30003','7'),\n",
    "('E1008','Bharath','Gupta','123413','05/06/1985','M',\"145 Berry Ln, Naperville,IL\",'660','65000','30003','7'),\n",
    "('E1009','Andrea','Jones','123414','07/09/1990','F',\"120 Fall Creek, Gary,IL\",'234','70000','30003','7'),\n",
    "('E1010','Ann','Jacob','123415','03/30/1982','F',\"111 Britany Springs,Elgin,IL\",'220','70000','30004','5')\n",
    "\n"
   ]
  },
  {
   "cell_type": "code",
   "execution_count": 6,
   "metadata": {},
   "outputs": [
    {
     "name": "stdout",
     "output_type": "stream",
     "text": [
      " * sqlite://\n",
      "3 rows affected.\n"
     ]
    },
    {
     "data": {
      "text/plain": [
       "[]"
      ]
     },
     "execution_count": 6,
     "metadata": {},
     "output_type": "execute_result"
    }
   ],
   "source": [
    "%%sql\n",
    "\n",
    "insert into DEPARTMENTS\n",
    "(DEPT_ID_DEP, DEP_NAME, MANAGER_ID, LOC_ID)\n",
    "VALUES\n",
    "('2','Architect Group','30001','L0001'),\n",
    "('5','Software Group','30002','L0002'),\n",
    "('7','Design Team','30003','L0003')\n"
   ]
  },
  {
   "cell_type": "code",
   "execution_count": 9,
   "metadata": {},
   "outputs": [
    {
     "name": "stdout",
     "output_type": "stream",
     "text": [
      " * sqlite://\n",
      "Done.\n"
     ]
    },
    {
     "data": {
      "text/html": [
       "<table>\n",
       "    <tr>\n",
       "        <th>EMP_ID</th>\n",
       "        <th>F_NAME</th>\n",
       "        <th>L_NAME</th>\n",
       "        <th>SSN</th>\n",
       "        <th>B_DATE</th>\n",
       "        <th>SEX</th>\n",
       "        <th>ADDRESS</th>\n",
       "        <th>JOB_ID</th>\n",
       "        <th>SALARY</th>\n",
       "        <th>MANAGER_ID</th>\n",
       "        <th>DEP_ID</th>\n",
       "    </tr>\n",
       "    <tr>\n",
       "        <td>E1001</td>\n",
       "        <td>John</td>\n",
       "        <td>Thomas</td>\n",
       "        <td>123456</td>\n",
       "        <td>01/09/1976</td>\n",
       "        <td>M</td>\n",
       "        <td>&quot;5631 Rice, OakPark,IL&quot;</td>\n",
       "        <td>100</td>\n",
       "        <td>100000</td>\n",
       "        <td>30001</td>\n",
       "        <td>2</td>\n",
       "    </tr>\n",
       "    <tr>\n",
       "        <td>E1002</td>\n",
       "        <td>Alice</td>\n",
       "        <td>James</td>\n",
       "        <td>123457</td>\n",
       "        <td>07/31/1972</td>\n",
       "        <td>F</td>\n",
       "        <td>980 Berry ln, Elgin,IL</td>\n",
       "        <td>200</td>\n",
       "        <td>80000</td>\n",
       "        <td>30002</td>\n",
       "        <td>5</td>\n",
       "    </tr>\n",
       "    <tr>\n",
       "        <td>E1003</td>\n",
       "        <td>Steve</td>\n",
       "        <td>Wells</td>\n",
       "        <td>123458</td>\n",
       "        <td>08/10/1980</td>\n",
       "        <td>M</td>\n",
       "        <td>291 Springs, Gary,IL</td>\n",
       "        <td>300</td>\n",
       "        <td>50000</td>\n",
       "        <td>30002</td>\n",
       "        <td>5</td>\n",
       "    </tr>\n",
       "    <tr>\n",
       "        <td>E1004</td>\n",
       "        <td>Santosh</td>\n",
       "        <td>Kumar</td>\n",
       "        <td>123459</td>\n",
       "        <td>07/20/1985</td>\n",
       "        <td>M</td>\n",
       "        <td>511 Aurora Av, Aurora,IL</td>\n",
       "        <td>400</td>\n",
       "        <td>60000</td>\n",
       "        <td>30004</td>\n",
       "        <td>5</td>\n",
       "    </tr>\n",
       "    <tr>\n",
       "        <td>E1005</td>\n",
       "        <td>Ahmed</td>\n",
       "        <td>Hussain</td>\n",
       "        <td>123410</td>\n",
       "        <td>01/04/1981</td>\n",
       "        <td>M</td>\n",
       "        <td>216 Oak Tree, Geneva,IL</td>\n",
       "        <td>500</td>\n",
       "        <td>70000</td>\n",
       "        <td>30001</td>\n",
       "        <td>2</td>\n",
       "    </tr>\n",
       "    <tr>\n",
       "        <td>E1006</td>\n",
       "        <td>Nancy</td>\n",
       "        <td>Allen</td>\n",
       "        <td>123411</td>\n",
       "        <td>02/06/1978</td>\n",
       "        <td>F</td>\n",
       "        <td>111 Green Pl, Elgin,IL</td>\n",
       "        <td>600</td>\n",
       "        <td>90000</td>\n",
       "        <td>30001</td>\n",
       "        <td>2</td>\n",
       "    </tr>\n",
       "    <tr>\n",
       "        <td>E1007</td>\n",
       "        <td>Mary</td>\n",
       "        <td>Thomas</td>\n",
       "        <td>123412</td>\n",
       "        <td>05/05/1975</td>\n",
       "        <td>F</td>\n",
       "        <td>100 Rose Pl, Gary,IL</td>\n",
       "        <td>650</td>\n",
       "        <td>65000</td>\n",
       "        <td>30003</td>\n",
       "        <td>7</td>\n",
       "    </tr>\n",
       "    <tr>\n",
       "        <td>E1008</td>\n",
       "        <td>Bharath</td>\n",
       "        <td>Gupta</td>\n",
       "        <td>123413</td>\n",
       "        <td>05/06/1985</td>\n",
       "        <td>M</td>\n",
       "        <td>145 Berry Ln, Naperville,IL</td>\n",
       "        <td>660</td>\n",
       "        <td>65000</td>\n",
       "        <td>30003</td>\n",
       "        <td>7</td>\n",
       "    </tr>\n",
       "    <tr>\n",
       "        <td>E1009</td>\n",
       "        <td>Andrea</td>\n",
       "        <td>Jones</td>\n",
       "        <td>123414</td>\n",
       "        <td>07/09/1990</td>\n",
       "        <td>F</td>\n",
       "        <td>120 Fall Creek, Gary,IL</td>\n",
       "        <td>234</td>\n",
       "        <td>70000</td>\n",
       "        <td>30003</td>\n",
       "        <td>7</td>\n",
       "    </tr>\n",
       "    <tr>\n",
       "        <td>E1010</td>\n",
       "        <td>Ann</td>\n",
       "        <td>Jacob</td>\n",
       "        <td>123415</td>\n",
       "        <td>03/30/1982</td>\n",
       "        <td>F</td>\n",
       "        <td>111 Britany Springs,Elgin,IL</td>\n",
       "        <td>220</td>\n",
       "        <td>70000</td>\n",
       "        <td>30004</td>\n",
       "        <td>5</td>\n",
       "    </tr>\n",
       "</table>"
      ],
      "text/plain": [
       "[('E1001', 'John', 'Thomas', '123456', '01/09/1976', 'M', '\"5631 Rice, OakPark,IL\"', '100', 100000, '30001', '2'),\n",
       " ('E1002', 'Alice', 'James', '123457', '07/31/1972', 'F', '980 Berry ln, Elgin,IL', '200', 80000, '30002', '5'),\n",
       " ('E1003', 'Steve', 'Wells', '123458', '08/10/1980', 'M', '291 Springs, Gary,IL', '300', 50000, '30002', '5'),\n",
       " ('E1004', 'Santosh', 'Kumar', '123459', '07/20/1985', 'M', '511 Aurora Av, Aurora,IL', '400', 60000, '30004', '5'),\n",
       " ('E1005', 'Ahmed', 'Hussain', '123410', '01/04/1981', 'M', '216 Oak Tree, Geneva,IL', '500', 70000, '30001', '2'),\n",
       " ('E1006', 'Nancy', 'Allen', '123411', '02/06/1978', 'F', '111 Green Pl, Elgin,IL', '600', 90000, '30001', '2'),\n",
       " ('E1007', 'Mary', 'Thomas', '123412', '05/05/1975', 'F', '100 Rose Pl, Gary,IL', '650', 65000, '30003', '7'),\n",
       " ('E1008', 'Bharath', 'Gupta', '123413', '05/06/1985', 'M', '145 Berry Ln, Naperville,IL', '660', 65000, '30003', '7'),\n",
       " ('E1009', 'Andrea', 'Jones', '123414', '07/09/1990', 'F', '120 Fall Creek, Gary,IL', '234', 70000, '30003', '7'),\n",
       " ('E1010', 'Ann', 'Jacob', '123415', '03/30/1982', 'F', '111 Britany Springs,Elgin,IL', '220', 70000, '30004', '5')]"
      ]
     },
     "execution_count": 9,
     "metadata": {},
     "output_type": "execute_result"
    }
   ],
   "source": [
    "%%sql \n",
    "\n",
    "select * from EMPLOYEES;"
   ]
  },
  {
   "cell_type": "code",
   "execution_count": 15,
   "metadata": {},
   "outputs": [
    {
     "name": "stdout",
     "output_type": "stream",
     "text": [
      " * sqlite://\n",
      "Done.\n"
     ]
    },
    {
     "data": {
      "text/html": [
       "<table>\n",
       "    <tr>\n",
       "        <th>AVG(SALARY)</th>\n",
       "    </tr>\n",
       "    <tr>\n",
       "        <td>72000.0</td>\n",
       "    </tr>\n",
       "</table>"
      ],
      "text/plain": [
       "[(72000.0,)]"
      ]
     },
     "execution_count": 15,
     "metadata": {},
     "output_type": "execute_result"
    }
   ],
   "source": [
    "%%sql\n",
    "\n",
    "select AVG(SALARY)\n",
    "from EMPLOYEES"
   ]
  },
  {
   "cell_type": "code",
   "execution_count": 16,
   "metadata": {},
   "outputs": [
    {
     "name": "stdout",
     "output_type": "stream",
     "text": [
      " * sqlite://\n",
      "(sqlite3.OperationalError) misuse of aggregate function AVG() [SQL: 'select * from EMPLOYEES\\nwhere SALARY > AVG(SALARY)'] (Background on this error at: http://sqlalche.me/e/e3q8)\n"
     ]
    }
   ],
   "source": [
    "%%sql\n",
    "\n",
    "select * from EMPLOYEES\n",
    "where SALARY > AVG(SALARY)"
   ]
  },
  {
   "cell_type": "markdown",
   "metadata": {},
   "source": [
    "## Agregate functions can't be always evaluated in the where clause"
   ]
  },
  {
   "cell_type": "markdown",
   "metadata": {},
   "source": [
    "### To solve this:"
   ]
  },
  {
   "cell_type": "code",
   "execution_count": 18,
   "metadata": {},
   "outputs": [
    {
     "name": "stdout",
     "output_type": "stream",
     "text": [
      " * sqlite://\n",
      "Done.\n"
     ]
    },
    {
     "data": {
      "text/html": [
       "<table>\n",
       "    <tr>\n",
       "        <th>EMP_ID</th>\n",
       "        <th>F_NAME</th>\n",
       "        <th>L_NAME</th>\n",
       "        <th>SSN</th>\n",
       "        <th>B_DATE</th>\n",
       "        <th>SEX</th>\n",
       "        <th>ADDRESS</th>\n",
       "        <th>JOB_ID</th>\n",
       "        <th>SALARY</th>\n",
       "        <th>MANAGER_ID</th>\n",
       "        <th>DEP_ID</th>\n",
       "    </tr>\n",
       "    <tr>\n",
       "        <td>E1001</td>\n",
       "        <td>John</td>\n",
       "        <td>Thomas</td>\n",
       "        <td>123456</td>\n",
       "        <td>01/09/1976</td>\n",
       "        <td>M</td>\n",
       "        <td>&quot;5631 Rice, OakPark,IL&quot;</td>\n",
       "        <td>100</td>\n",
       "        <td>100000</td>\n",
       "        <td>30001</td>\n",
       "        <td>2</td>\n",
       "    </tr>\n",
       "    <tr>\n",
       "        <td>E1002</td>\n",
       "        <td>Alice</td>\n",
       "        <td>James</td>\n",
       "        <td>123457</td>\n",
       "        <td>07/31/1972</td>\n",
       "        <td>F</td>\n",
       "        <td>980 Berry ln, Elgin,IL</td>\n",
       "        <td>200</td>\n",
       "        <td>80000</td>\n",
       "        <td>30002</td>\n",
       "        <td>5</td>\n",
       "    </tr>\n",
       "    <tr>\n",
       "        <td>E1006</td>\n",
       "        <td>Nancy</td>\n",
       "        <td>Allen</td>\n",
       "        <td>123411</td>\n",
       "        <td>02/06/1978</td>\n",
       "        <td>F</td>\n",
       "        <td>111 Green Pl, Elgin,IL</td>\n",
       "        <td>600</td>\n",
       "        <td>90000</td>\n",
       "        <td>30001</td>\n",
       "        <td>2</td>\n",
       "    </tr>\n",
       "</table>"
      ],
      "text/plain": [
       "[('E1001', 'John', 'Thomas', '123456', '01/09/1976', 'M', '\"5631 Rice, OakPark,IL\"', '100', 100000, '30001', '2'),\n",
       " ('E1002', 'Alice', 'James', '123457', '07/31/1972', 'F', '980 Berry ln, Elgin,IL', '200', 80000, '30002', '5'),\n",
       " ('E1006', 'Nancy', 'Allen', '123411', '02/06/1978', 'F', '111 Green Pl, Elgin,IL', '600', 90000, '30001', '2')]"
      ]
     },
     "execution_count": 18,
     "metadata": {},
     "output_type": "execute_result"
    }
   ],
   "source": [
    "%%sql\n",
    "\n",
    "select * from EMPLOYEES\n",
    "where SALARY > (select AVG(SALARY) from EMPLOYEES);"
   ]
  },
  {
   "cell_type": "code",
   "execution_count": 19,
   "metadata": {},
   "outputs": [
    {
     "name": "stdout",
     "output_type": "stream",
     "text": [
      " * sqlite://\n",
      "Done.\n"
     ]
    },
    {
     "data": {
      "text/html": [
       "<table>\n",
       "    <tr>\n",
       "        <th>EMP_ID</th>\n",
       "        <th>SALARY</th>\n",
       "        <th>AVG_SALARY</th>\n",
       "    </tr>\n",
       "    <tr>\n",
       "        <td>E1010</td>\n",
       "        <td>70000</td>\n",
       "        <td>72000.0</td>\n",
       "    </tr>\n",
       "</table>"
      ],
      "text/plain": [
       "[('E1010', 70000, 72000.0)]"
      ]
     },
     "execution_count": 19,
     "metadata": {},
     "output_type": "execute_result"
    }
   ],
   "source": [
    "%%sql\n",
    "\n",
    "select EMP_ID, SALARY, AVG(SALARY) as AVG_SALARY\n",
    "from employees;"
   ]
  },
  {
   "cell_type": "markdown",
   "metadata": {},
   "source": [
    "## Not what we want"
   ]
  },
  {
   "cell_type": "markdown",
   "metadata": {},
   "source": [
    "### But running like this ..."
   ]
  },
  {
   "cell_type": "code",
   "execution_count": 21,
   "metadata": {},
   "outputs": [
    {
     "name": "stdout",
     "output_type": "stream",
     "text": [
      " * sqlite://\n",
      "Done.\n"
     ]
    },
    {
     "data": {
      "text/html": [
       "<table>\n",
       "    <tr>\n",
       "        <th>EMP_ID</th>\n",
       "        <th>SALARY</th>\n",
       "        <th>(select AVG(SALARY) from EMPLOYEES)</th>\n",
       "    </tr>\n",
       "    <tr>\n",
       "        <td>E1001</td>\n",
       "        <td>100000</td>\n",
       "        <td>72000.0</td>\n",
       "    </tr>\n",
       "    <tr>\n",
       "        <td>E1002</td>\n",
       "        <td>80000</td>\n",
       "        <td>72000.0</td>\n",
       "    </tr>\n",
       "    <tr>\n",
       "        <td>E1003</td>\n",
       "        <td>50000</td>\n",
       "        <td>72000.0</td>\n",
       "    </tr>\n",
       "    <tr>\n",
       "        <td>E1004</td>\n",
       "        <td>60000</td>\n",
       "        <td>72000.0</td>\n",
       "    </tr>\n",
       "    <tr>\n",
       "        <td>E1005</td>\n",
       "        <td>70000</td>\n",
       "        <td>72000.0</td>\n",
       "    </tr>\n",
       "    <tr>\n",
       "        <td>E1006</td>\n",
       "        <td>90000</td>\n",
       "        <td>72000.0</td>\n",
       "    </tr>\n",
       "    <tr>\n",
       "        <td>E1007</td>\n",
       "        <td>65000</td>\n",
       "        <td>72000.0</td>\n",
       "    </tr>\n",
       "    <tr>\n",
       "        <td>E1008</td>\n",
       "        <td>65000</td>\n",
       "        <td>72000.0</td>\n",
       "    </tr>\n",
       "    <tr>\n",
       "        <td>E1009</td>\n",
       "        <td>70000</td>\n",
       "        <td>72000.0</td>\n",
       "    </tr>\n",
       "    <tr>\n",
       "        <td>E1010</td>\n",
       "        <td>70000</td>\n",
       "        <td>72000.0</td>\n",
       "    </tr>\n",
       "</table>"
      ],
      "text/plain": [
       "[('E1001', 100000, 72000.0),\n",
       " ('E1002', 80000, 72000.0),\n",
       " ('E1003', 50000, 72000.0),\n",
       " ('E1004', 60000, 72000.0),\n",
       " ('E1005', 70000, 72000.0),\n",
       " ('E1006', 90000, 72000.0),\n",
       " ('E1007', 65000, 72000.0),\n",
       " ('E1008', 65000, 72000.0),\n",
       " ('E1009', 70000, 72000.0),\n",
       " ('E1010', 70000, 72000.0)]"
      ]
     },
     "execution_count": 21,
     "metadata": {},
     "output_type": "execute_result"
    }
   ],
   "source": [
    "%%sql\n",
    "\n",
    "select EMP_ID, SALARY,\n",
    "(select AVG(SALARY) from EMPLOYEES)\n",
    "from EMPLOYEES;"
   ]
  },
  {
   "cell_type": "markdown",
   "metadata": {},
   "source": [
    "## Derived tables (Usefull when dealing with more than 1 table at once)"
   ]
  },
  {
   "cell_type": "code",
   "execution_count": 22,
   "metadata": {},
   "outputs": [
    {
     "name": "stdout",
     "output_type": "stream",
     "text": [
      " * sqlite://\n",
      "Done.\n"
     ]
    },
    {
     "data": {
      "text/html": [
       "<table>\n",
       "    <tr>\n",
       "        <th>EMP_ID</th>\n",
       "        <th>F_NAME</th>\n",
       "        <th>L_NAME</th>\n",
       "        <th>DEP_ID</th>\n",
       "    </tr>\n",
       "    <tr>\n",
       "        <td>E1001</td>\n",
       "        <td>John</td>\n",
       "        <td>Thomas</td>\n",
       "        <td>2</td>\n",
       "    </tr>\n",
       "    <tr>\n",
       "        <td>E1002</td>\n",
       "        <td>Alice</td>\n",
       "        <td>James</td>\n",
       "        <td>5</td>\n",
       "    </tr>\n",
       "    <tr>\n",
       "        <td>E1003</td>\n",
       "        <td>Steve</td>\n",
       "        <td>Wells</td>\n",
       "        <td>5</td>\n",
       "    </tr>\n",
       "    <tr>\n",
       "        <td>E1004</td>\n",
       "        <td>Santosh</td>\n",
       "        <td>Kumar</td>\n",
       "        <td>5</td>\n",
       "    </tr>\n",
       "    <tr>\n",
       "        <td>E1005</td>\n",
       "        <td>Ahmed</td>\n",
       "        <td>Hussain</td>\n",
       "        <td>2</td>\n",
       "    </tr>\n",
       "    <tr>\n",
       "        <td>E1006</td>\n",
       "        <td>Nancy</td>\n",
       "        <td>Allen</td>\n",
       "        <td>2</td>\n",
       "    </tr>\n",
       "    <tr>\n",
       "        <td>E1007</td>\n",
       "        <td>Mary</td>\n",
       "        <td>Thomas</td>\n",
       "        <td>7</td>\n",
       "    </tr>\n",
       "    <tr>\n",
       "        <td>E1008</td>\n",
       "        <td>Bharath</td>\n",
       "        <td>Gupta</td>\n",
       "        <td>7</td>\n",
       "    </tr>\n",
       "    <tr>\n",
       "        <td>E1009</td>\n",
       "        <td>Andrea</td>\n",
       "        <td>Jones</td>\n",
       "        <td>7</td>\n",
       "    </tr>\n",
       "    <tr>\n",
       "        <td>E1010</td>\n",
       "        <td>Ann</td>\n",
       "        <td>Jacob</td>\n",
       "        <td>5</td>\n",
       "    </tr>\n",
       "</table>"
      ],
      "text/plain": [
       "[('E1001', 'John', 'Thomas', '2'),\n",
       " ('E1002', 'Alice', 'James', '5'),\n",
       " ('E1003', 'Steve', 'Wells', '5'),\n",
       " ('E1004', 'Santosh', 'Kumar', '5'),\n",
       " ('E1005', 'Ahmed', 'Hussain', '2'),\n",
       " ('E1006', 'Nancy', 'Allen', '2'),\n",
       " ('E1007', 'Mary', 'Thomas', '7'),\n",
       " ('E1008', 'Bharath', 'Gupta', '7'),\n",
       " ('E1009', 'Andrea', 'Jones', '7'),\n",
       " ('E1010', 'Ann', 'Jacob', '5')]"
      ]
     },
     "execution_count": 22,
     "metadata": {},
     "output_type": "execute_result"
    }
   ],
   "source": [
    "%%sql\n",
    "\n",
    "select * from \n",
    "(select EMP_ID, F_NAME, L_NAME, DEP_ID from EMPLOYEES) \n",
    "as empall"
   ]
  }
 ],
 "metadata": {
  "kernelspec": {
   "display_name": "Python 3",
   "language": "python",
   "name": "python3"
  },
  "language_info": {
   "codemirror_mode": {
    "name": "ipython",
    "version": 3
   },
   "file_extension": ".py",
   "mimetype": "text/x-python",
   "name": "python",
   "nbconvert_exporter": "python",
   "pygments_lexer": "ipython3",
   "version": "3.6.5"
  }
 },
 "nbformat": 4,
 "nbformat_minor": 2
}
