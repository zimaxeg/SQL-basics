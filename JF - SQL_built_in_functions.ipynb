{
 "cells": [
  {
   "cell_type": "markdown",
   "metadata": {},
   "source": [
    "# SQL Built-in functions"
   ]
  },
  {
   "cell_type": "markdown",
   "metadata": {},
   "source": [
    "## First, let's consider the table EMPLOYEES"
   ]
  },
  {
   "cell_type": "code",
   "execution_count": 1,
   "metadata": {},
   "outputs": [],
   "source": [
    "% load_ext sql"
   ]
  },
  {
   "cell_type": "code",
   "execution_count": 2,
   "metadata": {},
   "outputs": [
    {
     "data": {
      "text/plain": [
       "'Connected: @None'"
      ]
     },
     "execution_count": 2,
     "metadata": {},
     "output_type": "execute_result"
    }
   ],
   "source": [
    "%sql sqlite://"
   ]
  },
  {
   "cell_type": "code",
   "execution_count": 3,
   "metadata": {},
   "outputs": [
    {
     "name": "stdout",
     "output_type": "stream",
     "text": [
      " * sqlite://\n",
      "Done.\n"
     ]
    },
    {
     "data": {
      "text/plain": [
       "[]"
      ]
     },
     "execution_count": 3,
     "metadata": {},
     "output_type": "execute_result"
    }
   ],
   "source": [
    "%%sql\n",
    "\n",
    "CREATE TABLE EMPLOYEES (\n",
    "                            EMP_ID CHAR(9) NOT NULL, \n",
    "                            F_NAME VARCHAR(15) NOT NULL,\n",
    "                            L_NAME VARCHAR(15) NOT NULL,\n",
    "                            SSN CHAR(9),\n",
    "                            B_DATE DATE,\n",
    "                            SEX CHAR,\n",
    "                            ADDRESS VARCHAR(30),\n",
    "                            JOB_ID CHAR(9),\n",
    "                            SALARY DECIMAL(10,2),\n",
    "                            MANAGER_ID CHAR(9),\n",
    "                            DEP_ID CHAR(9) NOT NULL,\n",
    "                            PRIMARY KEY (EMP_ID));"
   ]
  },
  {
   "cell_type": "code",
   "execution_count": 4,
   "metadata": {},
   "outputs": [
    {
     "name": "stdout",
     "output_type": "stream",
     "text": [
      " * sqlite://\n",
      "10 rows affected.\n"
     ]
    },
    {
     "data": {
      "text/plain": [
       "[]"
      ]
     },
     "execution_count": 4,
     "metadata": {},
     "output_type": "execute_result"
    }
   ],
   "source": [
    "%%sql\n",
    "\n",
    "insert into EMPLOYEES\n",
    "(EMP_ID, F_NAME, L_NAME, SSN, B_DATE, SEX, ADDRESS, JOB_ID, SALARY, MANAGER_ID, DEP_ID)\n",
    "VALUES\n",
    "('E1001','John', 'Thomas','123456','01/09/1976','M','\"5631 Rice, OakPark,IL\"','100','100000','30001','2'),\n",
    "('E1002','Alice','James','123457','07/31/1972','F',\"980 Berry ln, Elgin,IL\",'200','80000','30002','5'),\n",
    "('E1003','Steve','Wells','123458','08/10/1980','M',\"291 Springs, Gary,IL\",'300','50000','30002','5'),\n",
    "('E1004','Santosh','Kumar','123459','07/20/1985','M',\"511 Aurora Av, Aurora,IL\",'400','60000','30004','5'),\n",
    "('E1005','Ahmed','Hussain','123410','01/04/1981','M',\"216 Oak Tree, Geneva,IL\",'500','70000','30001','2'),\n",
    "('E1006','Nancy','Allen','123411','02/06/1978','F',\"111 Green Pl, Elgin,IL\",'600','90000','30001','2'),\n",
    "('E1007','Mary','Thomas','123412','05/05/1975','F',\"100 Rose Pl, Gary,IL\",'650','65000','30003','7'),\n",
    "('E1008','Bharath','Gupta','123413','05/06/1985','M',\"145 Berry Ln, Naperville,IL\",'660','65000','30003','7'),\n",
    "('E1009','Andrea','Jones','123414','07/09/1990','F',\"120 Fall Creek, Gary,IL\",'234','70000','30003','7'),\n",
    "('E1010','Ann','Jacob','123415','03/30/1982','F',\"111 Britany Springs,Elgin,IL\",'220','70000','30004','5')\n",
    "\n"
   ]
  },
  {
   "cell_type": "code",
   "execution_count": 5,
   "metadata": {},
   "outputs": [
    {
     "name": "stdout",
     "output_type": "stream",
     "text": [
      " * sqlite://\n",
      "Done.\n"
     ]
    },
    {
     "data": {
      "text/html": [
       "<table>\n",
       "    <tr>\n",
       "        <th>EMP_ID</th>\n",
       "        <th>F_NAME</th>\n",
       "        <th>L_NAME</th>\n",
       "        <th>SSN</th>\n",
       "        <th>B_DATE</th>\n",
       "        <th>SEX</th>\n",
       "        <th>ADDRESS</th>\n",
       "        <th>JOB_ID</th>\n",
       "        <th>SALARY</th>\n",
       "        <th>MANAGER_ID</th>\n",
       "        <th>DEP_ID</th>\n",
       "    </tr>\n",
       "    <tr>\n",
       "        <td>E1001</td>\n",
       "        <td>John</td>\n",
       "        <td>Thomas</td>\n",
       "        <td>123456</td>\n",
       "        <td>01/09/1976</td>\n",
       "        <td>M</td>\n",
       "        <td>&quot;5631 Rice, OakPark,IL&quot;</td>\n",
       "        <td>100</td>\n",
       "        <td>100000</td>\n",
       "        <td>30001</td>\n",
       "        <td>2</td>\n",
       "    </tr>\n",
       "    <tr>\n",
       "        <td>E1002</td>\n",
       "        <td>Alice</td>\n",
       "        <td>James</td>\n",
       "        <td>123457</td>\n",
       "        <td>07/31/1972</td>\n",
       "        <td>F</td>\n",
       "        <td>980 Berry ln, Elgin,IL</td>\n",
       "        <td>200</td>\n",
       "        <td>80000</td>\n",
       "        <td>30002</td>\n",
       "        <td>5</td>\n",
       "    </tr>\n",
       "    <tr>\n",
       "        <td>E1003</td>\n",
       "        <td>Steve</td>\n",
       "        <td>Wells</td>\n",
       "        <td>123458</td>\n",
       "        <td>08/10/1980</td>\n",
       "        <td>M</td>\n",
       "        <td>291 Springs, Gary,IL</td>\n",
       "        <td>300</td>\n",
       "        <td>50000</td>\n",
       "        <td>30002</td>\n",
       "        <td>5</td>\n",
       "    </tr>\n",
       "    <tr>\n",
       "        <td>E1004</td>\n",
       "        <td>Santosh</td>\n",
       "        <td>Kumar</td>\n",
       "        <td>123459</td>\n",
       "        <td>07/20/1985</td>\n",
       "        <td>M</td>\n",
       "        <td>511 Aurora Av, Aurora,IL</td>\n",
       "        <td>400</td>\n",
       "        <td>60000</td>\n",
       "        <td>30004</td>\n",
       "        <td>5</td>\n",
       "    </tr>\n",
       "    <tr>\n",
       "        <td>E1005</td>\n",
       "        <td>Ahmed</td>\n",
       "        <td>Hussain</td>\n",
       "        <td>123410</td>\n",
       "        <td>01/04/1981</td>\n",
       "        <td>M</td>\n",
       "        <td>216 Oak Tree, Geneva,IL</td>\n",
       "        <td>500</td>\n",
       "        <td>70000</td>\n",
       "        <td>30001</td>\n",
       "        <td>2</td>\n",
       "    </tr>\n",
       "    <tr>\n",
       "        <td>E1006</td>\n",
       "        <td>Nancy</td>\n",
       "        <td>Allen</td>\n",
       "        <td>123411</td>\n",
       "        <td>02/06/1978</td>\n",
       "        <td>F</td>\n",
       "        <td>111 Green Pl, Elgin,IL</td>\n",
       "        <td>600</td>\n",
       "        <td>90000</td>\n",
       "        <td>30001</td>\n",
       "        <td>2</td>\n",
       "    </tr>\n",
       "    <tr>\n",
       "        <td>E1007</td>\n",
       "        <td>Mary</td>\n",
       "        <td>Thomas</td>\n",
       "        <td>123412</td>\n",
       "        <td>05/05/1975</td>\n",
       "        <td>F</td>\n",
       "        <td>100 Rose Pl, Gary,IL</td>\n",
       "        <td>650</td>\n",
       "        <td>65000</td>\n",
       "        <td>30003</td>\n",
       "        <td>7</td>\n",
       "    </tr>\n",
       "    <tr>\n",
       "        <td>E1008</td>\n",
       "        <td>Bharath</td>\n",
       "        <td>Gupta</td>\n",
       "        <td>123413</td>\n",
       "        <td>05/06/1985</td>\n",
       "        <td>M</td>\n",
       "        <td>145 Berry Ln, Naperville,IL</td>\n",
       "        <td>660</td>\n",
       "        <td>65000</td>\n",
       "        <td>30003</td>\n",
       "        <td>7</td>\n",
       "    </tr>\n",
       "    <tr>\n",
       "        <td>E1009</td>\n",
       "        <td>Andrea</td>\n",
       "        <td>Jones</td>\n",
       "        <td>123414</td>\n",
       "        <td>07/09/1990</td>\n",
       "        <td>F</td>\n",
       "        <td>120 Fall Creek, Gary,IL</td>\n",
       "        <td>234</td>\n",
       "        <td>70000</td>\n",
       "        <td>30003</td>\n",
       "        <td>7</td>\n",
       "    </tr>\n",
       "    <tr>\n",
       "        <td>E1010</td>\n",
       "        <td>Ann</td>\n",
       "        <td>Jacob</td>\n",
       "        <td>123415</td>\n",
       "        <td>03/30/1982</td>\n",
       "        <td>F</td>\n",
       "        <td>111 Britany Springs,Elgin,IL</td>\n",
       "        <td>220</td>\n",
       "        <td>70000</td>\n",
       "        <td>30004</td>\n",
       "        <td>5</td>\n",
       "    </tr>\n",
       "</table>"
      ],
      "text/plain": [
       "[('E1001', 'John', 'Thomas', '123456', '01/09/1976', 'M', '\"5631 Rice, OakPark,IL\"', '100', 100000, '30001', '2'),\n",
       " ('E1002', 'Alice', 'James', '123457', '07/31/1972', 'F', '980 Berry ln, Elgin,IL', '200', 80000, '30002', '5'),\n",
       " ('E1003', 'Steve', 'Wells', '123458', '08/10/1980', 'M', '291 Springs, Gary,IL', '300', 50000, '30002', '5'),\n",
       " ('E1004', 'Santosh', 'Kumar', '123459', '07/20/1985', 'M', '511 Aurora Av, Aurora,IL', '400', 60000, '30004', '5'),\n",
       " ('E1005', 'Ahmed', 'Hussain', '123410', '01/04/1981', 'M', '216 Oak Tree, Geneva,IL', '500', 70000, '30001', '2'),\n",
       " ('E1006', 'Nancy', 'Allen', '123411', '02/06/1978', 'F', '111 Green Pl, Elgin,IL', '600', 90000, '30001', '2'),\n",
       " ('E1007', 'Mary', 'Thomas', '123412', '05/05/1975', 'F', '100 Rose Pl, Gary,IL', '650', 65000, '30003', '7'),\n",
       " ('E1008', 'Bharath', 'Gupta', '123413', '05/06/1985', 'M', '145 Berry Ln, Naperville,IL', '660', 65000, '30003', '7'),\n",
       " ('E1009', 'Andrea', 'Jones', '123414', '07/09/1990', 'F', '120 Fall Creek, Gary,IL', '234', 70000, '30003', '7'),\n",
       " ('E1010', 'Ann', 'Jacob', '123415', '03/30/1982', 'F', '111 Britany Springs,Elgin,IL', '220', 70000, '30004', '5')]"
      ]
     },
     "execution_count": 5,
     "metadata": {},
     "output_type": "execute_result"
    }
   ],
   "source": [
    "%%sql\n",
    "\n",
    "select * from EMPLOYEES"
   ]
  },
  {
   "cell_type": "markdown",
   "metadata": {},
   "source": [
    "## Built-in functions"
   ]
  },
  {
   "cell_type": "code",
   "execution_count": 10,
   "metadata": {},
   "outputs": [
    {
     "name": "stdout",
     "output_type": "stream",
     "text": [
      " * sqlite://\n",
      "0 rows affected.\n",
      "Done.\n"
     ]
    },
    {
     "data": {
      "text/html": [
       "<table>\n",
       "    <tr>\n",
       "        <th>MIN(SALARY)</th>\n",
       "    </tr>\n",
       "    <tr>\n",
       "        <td>50000</td>\n",
       "    </tr>\n",
       "</table>"
      ],
      "text/plain": [
       "[(50000,)]"
      ]
     },
     "execution_count": 10,
     "metadata": {},
     "output_type": "execute_result"
    }
   ],
   "source": [
    "%%sql\n",
    "\n",
    ";\n",
    "select MIN(SALARY) from EMPLOYEES;"
   ]
  },
  {
   "cell_type": "code",
   "execution_count": 16,
   "metadata": {},
   "outputs": [
    {
     "name": "stdout",
     "output_type": "stream",
     "text": [
      " * sqlite://\n",
      "0 rows affected.\n",
      "Done.\n"
     ]
    },
    {
     "data": {
      "text/html": [
       "<table>\n",
       "    <tr>\n",
       "        <th>MAX(SALARY)</th>\n",
       "    </tr>\n",
       "    <tr>\n",
       "        <td>100000</td>\n",
       "    </tr>\n",
       "</table>"
      ],
      "text/plain": [
       "[(100000,)]"
      ]
     },
     "execution_count": 16,
     "metadata": {},
     "output_type": "execute_result"
    }
   ],
   "source": [
    "%%sql\n",
    "\n",
    ";\n",
    "select MAX(SALARY) from EMPLOYEES;"
   ]
  },
  {
   "cell_type": "code",
   "execution_count": 13,
   "metadata": {},
   "outputs": [
    {
     "name": "stdout",
     "output_type": "stream",
     "text": [
      " * sqlite://\n",
      "0 rows affected.\n",
      "Done.\n"
     ]
    },
    {
     "data": {
      "text/html": [
       "<table>\n",
       "    <tr>\n",
       "        <th>AVG(SALARY)</th>\n",
       "    </tr>\n",
       "    <tr>\n",
       "        <td>72000.0</td>\n",
       "    </tr>\n",
       "</table>"
      ],
      "text/plain": [
       "[(72000.0,)]"
      ]
     },
     "execution_count": 13,
     "metadata": {},
     "output_type": "execute_result"
    }
   ],
   "source": [
    "%%sql\n",
    "\n",
    ";\n",
    "select AVG(SALARY) from EMPLOYEES;"
   ]
  },
  {
   "cell_type": "code",
   "execution_count": 15,
   "metadata": {},
   "outputs": [
    {
     "name": "stdout",
     "output_type": "stream",
     "text": [
      " * sqlite://\n",
      "0 rows affected.\n",
      "Done.\n"
     ]
    },
    {
     "data": {
      "text/html": [
       "<table>\n",
       "    <tr>\n",
       "        <th>SUM(SALARY)</th>\n",
       "    </tr>\n",
       "    <tr>\n",
       "        <td>720000</td>\n",
       "    </tr>\n",
       "</table>"
      ],
      "text/plain": [
       "[(720000,)]"
      ]
     },
     "execution_count": 15,
     "metadata": {},
     "output_type": "execute_result"
    }
   ],
   "source": [
    "%%sql\n",
    "\n",
    ";\n",
    "select SUM(SALARY) from EMPLOYEES;"
   ]
  },
  {
   "cell_type": "markdown",
   "metadata": {},
   "source": [
    "## Labels"
   ]
  },
  {
   "cell_type": "code",
   "execution_count": 23,
   "metadata": {},
   "outputs": [
    {
     "name": "stdout",
     "output_type": "stream",
     "text": [
      " * sqlite://\n",
      "0 rows affected.\n",
      "Done.\n"
     ]
    },
    {
     "data": {
      "text/html": [
       "<table>\n",
       "    <tr>\n",
       "        <th>SUM_OF_SALARIES</th>\n",
       "    </tr>\n",
       "    <tr>\n",
       "        <td>720000</td>\n",
       "    </tr>\n",
       "</table>"
      ],
      "text/plain": [
       "[(720000,)]"
      ]
     },
     "execution_count": 23,
     "metadata": {},
     "output_type": "execute_result"
    }
   ],
   "source": [
    "%%sql\n",
    "\n",
    ";\n",
    "select SUM(SALARY) as SUM_OF_SALARIES from EMPLOYEES;"
   ]
  },
  {
   "cell_type": "markdown",
   "metadata": {},
   "source": [
    "## Where clause"
   ]
  },
  {
   "cell_type": "code",
   "execution_count": 22,
   "metadata": {},
   "outputs": [
    {
     "name": "stdout",
     "output_type": "stream",
     "text": [
      " * sqlite://\n",
      "0 rows affected.\n",
      "Done.\n"
     ]
    },
    {
     "data": {
      "text/html": [
       "<table>\n",
       "    <tr>\n",
       "        <th>SUM_FEMALE</th>\n",
       "    </tr>\n",
       "    <tr>\n",
       "        <td>375000</td>\n",
       "    </tr>\n",
       "</table>"
      ],
      "text/plain": [
       "[(375000,)]"
      ]
     },
     "execution_count": 22,
     "metadata": {},
     "output_type": "execute_result"
    }
   ],
   "source": [
    "%%sql\n",
    "\n",
    ";\n",
    "select SUM(SALARY) as SUM_FEMALE \n",
    "from EMPLOYEES\n",
    "where SEX = 'F';"
   ]
  },
  {
   "cell_type": "code",
   "execution_count": 29,
   "metadata": {},
   "outputs": [
    {
     "name": "stdout",
     "output_type": "stream",
     "text": [
      " * sqlite://\n",
      "0 rows affected.\n",
      "Done.\n"
     ]
    },
    {
     "data": {
      "text/html": [
       "<table>\n",
       "    <tr>\n",
       "        <th>AVG_FEMALE_PER_DEP</th>\n",
       "    </tr>\n",
       "    <tr>\n",
       "        <td>18857.0</td>\n",
       "    </tr>\n",
       "</table>"
      ],
      "text/plain": [
       "[(18857.0,)]"
      ]
     },
     "execution_count": 29,
     "metadata": {},
     "output_type": "execute_result"
    }
   ],
   "source": [
    "%%sql\n",
    "\n",
    ";\n",
    "select AVG(SALARY / DEP_ID) as AVG_FEMALE_PER_DEP\n",
    "from EMPLOYEES\n",
    "where sex = 'F';"
   ]
  },
  {
   "cell_type": "markdown",
   "metadata": {},
   "source": [
    "## Other functions"
   ]
  },
  {
   "cell_type": "code",
   "execution_count": 25,
   "metadata": {},
   "outputs": [
    {
     "name": "stdout",
     "output_type": "stream",
     "text": [
      " * sqlite://\n",
      "0 rows affected.\n",
      "Done.\n"
     ]
    },
    {
     "data": {
      "text/html": [
       "<table>\n",
       "    <tr>\n",
       "        <th>ROUND</th>\n",
       "    </tr>\n",
       "    <tr>\n",
       "        <td>100000.0</td>\n",
       "    </tr>\n",
       "    <tr>\n",
       "        <td>80000.0</td>\n",
       "    </tr>\n",
       "    <tr>\n",
       "        <td>50000.0</td>\n",
       "    </tr>\n",
       "    <tr>\n",
       "        <td>60000.0</td>\n",
       "    </tr>\n",
       "    <tr>\n",
       "        <td>70000.0</td>\n",
       "    </tr>\n",
       "    <tr>\n",
       "        <td>90000.0</td>\n",
       "    </tr>\n",
       "    <tr>\n",
       "        <td>65000.0</td>\n",
       "    </tr>\n",
       "    <tr>\n",
       "        <td>65000.0</td>\n",
       "    </tr>\n",
       "    <tr>\n",
       "        <td>70000.0</td>\n",
       "    </tr>\n",
       "    <tr>\n",
       "        <td>70000.0</td>\n",
       "    </tr>\n",
       "</table>"
      ],
      "text/plain": [
       "[(100000.0,),\n",
       " (80000.0,),\n",
       " (50000.0,),\n",
       " (60000.0,),\n",
       " (70000.0,),\n",
       " (90000.0,),\n",
       " (65000.0,),\n",
       " (65000.0,),\n",
       " (70000.0,),\n",
       " (70000.0,)]"
      ]
     },
     "execution_count": 25,
     "metadata": {},
     "output_type": "execute_result"
    }
   ],
   "source": [
    "%%sql\n",
    "\n",
    ";\n",
    "select ROUND(SALARY) as ROUND\n",
    "from EMPLOYEES;"
   ]
  },
  {
   "cell_type": "code",
   "execution_count": 32,
   "metadata": {},
   "outputs": [
    {
     "name": "stdout",
     "output_type": "stream",
     "text": [
      " * sqlite://\n",
      "0 rows affected.\n",
      "Done.\n"
     ]
    },
    {
     "data": {
      "text/html": [
       "<table>\n",
       "    <tr>\n",
       "        <th>length(F_NAME)</th>\n",
       "    </tr>\n",
       "    <tr>\n",
       "        <td>4</td>\n",
       "    </tr>\n",
       "    <tr>\n",
       "        <td>5</td>\n",
       "    </tr>\n",
       "    <tr>\n",
       "        <td>5</td>\n",
       "    </tr>\n",
       "    <tr>\n",
       "        <td>7</td>\n",
       "    </tr>\n",
       "    <tr>\n",
       "        <td>5</td>\n",
       "    </tr>\n",
       "    <tr>\n",
       "        <td>5</td>\n",
       "    </tr>\n",
       "    <tr>\n",
       "        <td>4</td>\n",
       "    </tr>\n",
       "    <tr>\n",
       "        <td>7</td>\n",
       "    </tr>\n",
       "    <tr>\n",
       "        <td>6</td>\n",
       "    </tr>\n",
       "    <tr>\n",
       "        <td>3</td>\n",
       "    </tr>\n",
       "</table>"
      ],
      "text/plain": [
       "[(4,), (5,), (5,), (7,), (5,), (5,), (4,), (7,), (6,), (3,)]"
      ]
     },
     "execution_count": 32,
     "metadata": {},
     "output_type": "execute_result"
    }
   ],
   "source": [
    "%%sql\n",
    "\n",
    ";\n",
    "select length(F_NAME) \n",
    "from EMPLOYEES;"
   ]
  },
  {
   "cell_type": "code",
   "execution_count": 34,
   "metadata": {},
   "outputs": [
    {
     "name": "stdout",
     "output_type": "stream",
     "text": [
      " * sqlite://\n",
      "0 rows affected.\n",
      "(sqlite3.OperationalError) no such function: UCASE [SQL: 'select UCASE(F_NAME)\\nfrom EMPLOYEES;'] (Background on this error at: http://sqlalche.me/e/e3q8)\n"
     ]
    }
   ],
   "source": [
    "%%sql\n",
    "\n",
    ";\n",
    "select UCASE(F_NAME)\n",
    "from EMPLOYEES;"
   ]
  },
  {
   "cell_type": "code",
   "execution_count": 35,
   "metadata": {},
   "outputs": [
    {
     "name": "stdout",
     "output_type": "stream",
     "text": [
      " * sqlite://\n",
      "0 rows affected.\n",
      "(sqlite3.OperationalError) no such function: LCASE [SQL: 'select LCASE(F_NAME)\\nfrom EMPLOYEES;'] (Background on this error at: http://sqlalche.me/e/e3q8)\n"
     ]
    }
   ],
   "source": [
    "%%sql\n",
    "\n",
    ";\n",
    "select LCASE(F_NAME)\n",
    "from EMPLOYEES;"
   ]
  },
  {
   "cell_type": "markdown",
   "metadata": {},
   "source": [
    "## Now, consider the table PETSALE"
   ]
  },
  {
   "cell_type": "code",
   "execution_count": 50,
   "metadata": {},
   "outputs": [
    {
     "name": "stdout",
     "output_type": "stream",
     "text": [
      " * sqlite://\n",
      "Done.\n"
     ]
    },
    {
     "data": {
      "text/plain": [
       "[]"
      ]
     },
     "execution_count": 50,
     "metadata": {},
     "output_type": "execute_result"
    }
   ],
   "source": [
    "%%sql\n",
    "\n",
    "create table PETSALE (\n",
    "ID INTEGER PRIMARY KEY NOT NULL,\n",
    "ANIMAL VARCHAR(20),\n",
    "QUANTITY INTEGER,\n",
    "SALEPRICE DECIMAL(6,2),\n",
    "SALEDATE DATE\n",
    ");"
   ]
  },
  {
   "cell_type": "code",
   "execution_count": 51,
   "metadata": {},
   "outputs": [
    {
     "name": "stdout",
     "output_type": "stream",
     "text": [
      " * sqlite://\n",
      "9 rows affected.\n"
     ]
    },
    {
     "data": {
      "text/plain": [
       "[]"
      ]
     },
     "execution_count": 51,
     "metadata": {},
     "output_type": "execute_result"
    }
   ],
   "source": [
    "%%sql\n",
    "\n",
    "insert into PETSALE values \n",
    "(1,'Cat',9,450.09,'2018-05-29'),\n",
    "(2,'Dog',3,666.66,'2018-06-01'),\n",
    "(3,'Dog',1,100.00,'2018-06-04'),\n",
    "(4,'Parrot',2,50.00,'2018-06-04'),\n",
    "(5,'Dog',1,75.75,'2018-06-10'),\n",
    "(6,'Hamster',6,60.60,'2018-06-11'),\n",
    "(7,'Cat',1,44.44,'2018-06-11'),\n",
    "(8,'Goldfish',24,48.48,'2018-06-14'),\n",
    "(9,'Dog',2,222.22,'2018-06-15')\n",
    ";"
   ]
  },
  {
   "cell_type": "code",
   "execution_count": 53,
   "metadata": {},
   "outputs": [
    {
     "name": "stdout",
     "output_type": "stream",
     "text": [
      " * sqlite://\n",
      "0 rows affected.\n",
      "Done.\n"
     ]
    },
    {
     "data": {
      "text/html": [
       "<table>\n",
       "    <tr>\n",
       "        <th>ID</th>\n",
       "        <th>ANIMAL</th>\n",
       "        <th>QUANTITY</th>\n",
       "        <th>SALEPRICE</th>\n",
       "        <th>SALEDATE</th>\n",
       "    </tr>\n",
       "    <tr>\n",
       "        <td>1</td>\n",
       "        <td>Cat</td>\n",
       "        <td>9</td>\n",
       "        <td>450.09</td>\n",
       "        <td>2018-05-29</td>\n",
       "    </tr>\n",
       "    <tr>\n",
       "        <td>2</td>\n",
       "        <td>Dog</td>\n",
       "        <td>3</td>\n",
       "        <td>666.66</td>\n",
       "        <td>2018-06-01</td>\n",
       "    </tr>\n",
       "    <tr>\n",
       "        <td>3</td>\n",
       "        <td>Dog</td>\n",
       "        <td>1</td>\n",
       "        <td>100</td>\n",
       "        <td>2018-06-04</td>\n",
       "    </tr>\n",
       "    <tr>\n",
       "        <td>4</td>\n",
       "        <td>Parrot</td>\n",
       "        <td>2</td>\n",
       "        <td>50</td>\n",
       "        <td>2018-06-04</td>\n",
       "    </tr>\n",
       "    <tr>\n",
       "        <td>5</td>\n",
       "        <td>Dog</td>\n",
       "        <td>1</td>\n",
       "        <td>75.75</td>\n",
       "        <td>2018-06-10</td>\n",
       "    </tr>\n",
       "    <tr>\n",
       "        <td>6</td>\n",
       "        <td>Hamster</td>\n",
       "        <td>6</td>\n",
       "        <td>60.6</td>\n",
       "        <td>2018-06-11</td>\n",
       "    </tr>\n",
       "    <tr>\n",
       "        <td>7</td>\n",
       "        <td>Cat</td>\n",
       "        <td>1</td>\n",
       "        <td>44.44</td>\n",
       "        <td>2018-06-11</td>\n",
       "    </tr>\n",
       "    <tr>\n",
       "        <td>8</td>\n",
       "        <td>Goldfish</td>\n",
       "        <td>24</td>\n",
       "        <td>48.48</td>\n",
       "        <td>2018-06-14</td>\n",
       "    </tr>\n",
       "    <tr>\n",
       "        <td>9</td>\n",
       "        <td>Dog</td>\n",
       "        <td>2</td>\n",
       "        <td>222.22</td>\n",
       "        <td>2018-06-15</td>\n",
       "    </tr>\n",
       "</table>"
      ],
      "text/plain": [
       "[(1, 'Cat', 9, 450.09, '2018-05-29'),\n",
       " (2, 'Dog', 3, 666.66, '2018-06-01'),\n",
       " (3, 'Dog', 1, 100, '2018-06-04'),\n",
       " (4, 'Parrot', 2, 50, '2018-06-04'),\n",
       " (5, 'Dog', 1, 75.75, '2018-06-10'),\n",
       " (6, 'Hamster', 6, 60.6, '2018-06-11'),\n",
       " (7, 'Cat', 1, 44.44, '2018-06-11'),\n",
       " (8, 'Goldfish', 24, 48.48, '2018-06-14'),\n",
       " (9, 'Dog', 2, 222.22, '2018-06-15')]"
      ]
     },
     "execution_count": 53,
     "metadata": {},
     "output_type": "execute_result"
    }
   ],
   "source": [
    "%%sql\n",
    "\n",
    ";\n",
    "select * from PETSALE;"
   ]
  },
  {
   "cell_type": "code",
   "execution_count": 54,
   "metadata": {},
   "outputs": [
    {
     "name": "stdout",
     "output_type": "stream",
     "text": [
      " * sqlite://\n",
      "Done.\n"
     ]
    },
    {
     "data": {
      "text/html": [
       "<table>\n",
       "    <tr>\n",
       "        <th>SUM(SALEPRICE)</th>\n",
       "    </tr>\n",
       "    <tr>\n",
       "        <td>1718.24</td>\n",
       "    </tr>\n",
       "</table>"
      ],
      "text/plain": [
       "[(1718.24,)]"
      ]
     },
     "execution_count": 54,
     "metadata": {},
     "output_type": "execute_result"
    }
   ],
   "source": [
    "%%sql\n",
    "\n",
    "select SUM(SALEPRICE) from PETSALE;"
   ]
  },
  {
   "cell_type": "code",
   "execution_count": 55,
   "metadata": {},
   "outputs": [
    {
     "name": "stdout",
     "output_type": "stream",
     "text": [
      " * sqlite://\n",
      "Done.\n"
     ]
    },
    {
     "data": {
      "text/html": [
       "<table>\n",
       "    <tr>\n",
       "        <th>SUM_OF_SALEPRICE</th>\n",
       "    </tr>\n",
       "    <tr>\n",
       "        <td>1718.24</td>\n",
       "    </tr>\n",
       "</table>"
      ],
      "text/plain": [
       "[(1718.24,)]"
      ]
     },
     "execution_count": 55,
     "metadata": {},
     "output_type": "execute_result"
    }
   ],
   "source": [
    "%%sql\n",
    "\n",
    "select SUM(SALEPRICE) AS SUM_OF_SALEPRICE from PETSALE;"
   ]
  },
  {
   "cell_type": "code",
   "execution_count": 56,
   "metadata": {},
   "outputs": [
    {
     "name": "stdout",
     "output_type": "stream",
     "text": [
      " * sqlite://\n",
      "Done.\n"
     ]
    },
    {
     "data": {
      "text/html": [
       "<table>\n",
       "    <tr>\n",
       "        <th>MAX(QUANTITY)</th>\n",
       "    </tr>\n",
       "    <tr>\n",
       "        <td>24</td>\n",
       "    </tr>\n",
       "</table>"
      ],
      "text/plain": [
       "[(24,)]"
      ]
     },
     "execution_count": 56,
     "metadata": {},
     "output_type": "execute_result"
    }
   ],
   "source": [
    "%%sql\n",
    "\n",
    "select MAX(QUANTITY) from PETSALE;"
   ]
  },
  {
   "cell_type": "code",
   "execution_count": 57,
   "metadata": {},
   "outputs": [
    {
     "name": "stdout",
     "output_type": "stream",
     "text": [
      " * sqlite://\n",
      "Done.\n"
     ]
    },
    {
     "data": {
      "text/html": [
       "<table>\n",
       "    <tr>\n",
       "        <th>AVG(SALEPRICE)</th>\n",
       "    </tr>\n",
       "    <tr>\n",
       "        <td>190.91555555555556</td>\n",
       "    </tr>\n",
       "</table>"
      ],
      "text/plain": [
       "[(190.91555555555556,)]"
      ]
     },
     "execution_count": 57,
     "metadata": {},
     "output_type": "execute_result"
    }
   ],
   "source": [
    "%%sql\n",
    "\n",
    "select AVG(SALEPRICE) from PETSALE;"
   ]
  },
  {
   "cell_type": "code",
   "execution_count": 59,
   "metadata": {},
   "outputs": [
    {
     "name": "stdout",
     "output_type": "stream",
     "text": [
      " * sqlite://\n",
      "Done.\n"
     ]
    },
    {
     "data": {
      "text/html": [
       "<table>\n",
       "    <tr>\n",
       "        <th>AVG( SALEPRICE / QUANTITY )</th>\n",
       "    </tr>\n",
       "    <tr>\n",
       "        <td>127.27000000000001</td>\n",
       "    </tr>\n",
       "</table>"
      ],
      "text/plain": [
       "[(127.27000000000001,)]"
      ]
     },
     "execution_count": 59,
     "metadata": {},
     "output_type": "execute_result"
    }
   ],
   "source": [
    "%%sql\n",
    "\n",
    "select AVG( SALEPRICE / QUANTITY ) from PETSALE where ANIMAL = 'Dog';"
   ]
  },
  {
   "cell_type": "code",
   "execution_count": 60,
   "metadata": {},
   "outputs": [
    {
     "name": "stdout",
     "output_type": "stream",
     "text": [
      " * sqlite://\n",
      "Done.\n"
     ]
    },
    {
     "data": {
      "text/html": [
       "<table>\n",
       "    <tr>\n",
       "        <th>ROUND(SALEPRICE)</th>\n",
       "    </tr>\n",
       "    <tr>\n",
       "        <td>450.0</td>\n",
       "    </tr>\n",
       "    <tr>\n",
       "        <td>667.0</td>\n",
       "    </tr>\n",
       "    <tr>\n",
       "        <td>100.0</td>\n",
       "    </tr>\n",
       "    <tr>\n",
       "        <td>50.0</td>\n",
       "    </tr>\n",
       "    <tr>\n",
       "        <td>76.0</td>\n",
       "    </tr>\n",
       "    <tr>\n",
       "        <td>61.0</td>\n",
       "    </tr>\n",
       "    <tr>\n",
       "        <td>44.0</td>\n",
       "    </tr>\n",
       "    <tr>\n",
       "        <td>48.0</td>\n",
       "    </tr>\n",
       "    <tr>\n",
       "        <td>222.0</td>\n",
       "    </tr>\n",
       "</table>"
      ],
      "text/plain": [
       "[(450.0,),\n",
       " (667.0,),\n",
       " (100.0,),\n",
       " (50.0,),\n",
       " (76.0,),\n",
       " (61.0,),\n",
       " (44.0,),\n",
       " (48.0,),\n",
       " (222.0,)]"
      ]
     },
     "execution_count": 60,
     "metadata": {},
     "output_type": "execute_result"
    }
   ],
   "source": [
    "%%sql\n",
    "\n",
    "select ROUND(SALEPRICE) from PETSALE;"
   ]
  },
  {
   "cell_type": "code",
   "execution_count": 61,
   "metadata": {},
   "outputs": [
    {
     "name": "stdout",
     "output_type": "stream",
     "text": [
      " * sqlite://\n",
      "Done.\n"
     ]
    },
    {
     "data": {
      "text/html": [
       "<table>\n",
       "    <tr>\n",
       "        <th>LENGTH(ANIMAL)</th>\n",
       "    </tr>\n",
       "    <tr>\n",
       "        <td>3</td>\n",
       "    </tr>\n",
       "    <tr>\n",
       "        <td>3</td>\n",
       "    </tr>\n",
       "    <tr>\n",
       "        <td>3</td>\n",
       "    </tr>\n",
       "    <tr>\n",
       "        <td>6</td>\n",
       "    </tr>\n",
       "    <tr>\n",
       "        <td>3</td>\n",
       "    </tr>\n",
       "    <tr>\n",
       "        <td>7</td>\n",
       "    </tr>\n",
       "    <tr>\n",
       "        <td>3</td>\n",
       "    </tr>\n",
       "    <tr>\n",
       "        <td>8</td>\n",
       "    </tr>\n",
       "    <tr>\n",
       "        <td>3</td>\n",
       "    </tr>\n",
       "</table>"
      ],
      "text/plain": [
       "[(3,), (3,), (3,), (6,), (3,), (7,), (3,), (8,), (3,)]"
      ]
     },
     "execution_count": 61,
     "metadata": {},
     "output_type": "execute_result"
    }
   ],
   "source": [
    "%%sql\n",
    "\n",
    "select LENGTH(ANIMAL) from PETSALE;"
   ]
  },
  {
   "cell_type": "code",
   "execution_count": 62,
   "metadata": {},
   "outputs": [
    {
     "name": "stdout",
     "output_type": "stream",
     "text": [
      " * sqlite://\n",
      "(sqlite3.OperationalError) no such function: UCASE [SQL: 'select UCASE(ANIMAL) from PETSALE;'] (Background on this error at: http://sqlalche.me/e/e3q8)\n"
     ]
    }
   ],
   "source": [
    "%%sql\n",
    "\n",
    "select UCASE(ANIMAL) from PETSALE;"
   ]
  },
  {
   "cell_type": "code",
   "execution_count": 63,
   "metadata": {},
   "outputs": [
    {
     "name": "stdout",
     "output_type": "stream",
     "text": [
      " * sqlite://\n",
      "(sqlite3.OperationalError) no such function: UCASE [SQL: 'select DISTINCT(UCASE(ANIMAL)) from PETSALE;'] (Background on this error at: http://sqlalche.me/e/e3q8)\n"
     ]
    }
   ],
   "source": [
    "%%sql\n",
    "\n",
    "select DISTINCT(UCASE(ANIMAL)) from PETSALE;"
   ]
  },
  {
   "cell_type": "code",
   "execution_count": 64,
   "metadata": {},
   "outputs": [
    {
     "name": "stdout",
     "output_type": "stream",
     "text": [
      " * sqlite://\n",
      "(sqlite3.OperationalError) no such function: LCASE [SQL: \"select * from PETSALE where LCASE(ANIMAL) = 'cat';\"] (Background on this error at: http://sqlalche.me/e/e3q8)\n"
     ]
    }
   ],
   "source": [
    "%%sql\n",
    "\n",
    "select * from PETSALE where LCASE(ANIMAL) = 'cat';"
   ]
  },
  {
   "cell_type": "code",
   "execution_count": 65,
   "metadata": {},
   "outputs": [
    {
     "name": "stdout",
     "output_type": "stream",
     "text": [
      " * sqlite://\n",
      "(sqlite3.OperationalError) no such function: DAY [SQL: \"select DAY(SALEDATE) from PETSALE where ANIMAL = 'Cat';\"] (Background on this error at: http://sqlalche.me/e/e3q8)\n"
     ]
    }
   ],
   "source": [
    "%%sql\n",
    "\n",
    "select DAY(SALEDATE) from PETSALE where ANIMAL = 'Cat';"
   ]
  },
  {
   "cell_type": "code",
   "execution_count": 67,
   "metadata": {},
   "outputs": [
    {
     "name": "stdout",
     "output_type": "stream",
     "text": [
      " * sqlite://\n",
      "(sqlite3.OperationalError) no such function: MONTH [SQL: \"select COUNT(*) from PETSALE where MONTH(SALEDATE)='05';\"] (Background on this error at: http://sqlalche.me/e/e3q8)\n"
     ]
    }
   ],
   "source": [
    "%%sql\n",
    "\n",
    "select COUNT(*) from PETSALE where MONTH(SALEDATE)='05';"
   ]
  },
  {
   "cell_type": "code",
   "execution_count": 68,
   "metadata": {},
   "outputs": [
    {
     "name": "stdout",
     "output_type": "stream",
     "text": [
      " * sqlite://\n",
      "(sqlite3.OperationalError) near \"DAYS\": syntax error [SQL: 'select (SALEDATE + 3 DAYS) from PETSALE;'] (Background on this error at: http://sqlalche.me/e/e3q8)\n"
     ]
    }
   ],
   "source": [
    "%%sql\n",
    "\n",
    "select (SALEDATE + 3 DAYS) from PETSALE;"
   ]
  },
  {
   "cell_type": "code",
   "execution_count": 69,
   "metadata": {},
   "outputs": [
    {
     "name": "stdout",
     "output_type": "stream",
     "text": [
      " * sqlite://\n",
      "(sqlite3.OperationalError) near \"DATE\": syntax error [SQL: 'select (CURRENT DATE - SALEDATE) from PETSALE;'] (Background on this error at: http://sqlalche.me/e/e3q8)\n"
     ]
    }
   ],
   "source": [
    "%%sql\n",
    "\n",
    "select (CURRENT DATE - SALEDATE) from PETSALE;"
   ]
  }
 ],
 "metadata": {
  "kernelspec": {
   "display_name": "Python 3",
   "language": "python",
   "name": "python3"
  },
  "language_info": {
   "codemirror_mode": {
    "name": "ipython",
    "version": 3
   },
   "file_extension": ".py",
   "mimetype": "text/x-python",
   "name": "python",
   "nbconvert_exporter": "python",
   "pygments_lexer": "ipython3",
   "version": "3.6.5"
  }
 },
 "nbformat": 4,
 "nbformat_minor": 2
}
