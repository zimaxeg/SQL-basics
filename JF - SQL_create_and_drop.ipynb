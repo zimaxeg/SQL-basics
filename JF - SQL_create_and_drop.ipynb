{
 "cells": [
  {
   "cell_type": "markdown",
   "metadata": {},
   "source": [
    "## Examples in CREATE and DROP tables"
   ]
  },
  {
   "cell_type": "code",
   "execution_count": 1,
   "metadata": {},
   "outputs": [
    {
     "data": {
      "text/plain": [
       "['Collecting ipython-sql',\n",
       " '  Downloading https://files.pythonhosted.org/packages/ab/df/427e7cf05ffc67e78672ad57dce2436c1e825129033effe6fcaf804d0c60/ipython_sql-0.3.9-py2.py3-none-any.whl',\n",
       " 'Collecting sqlparse (from ipython-sql)',\n",
       " '  Downloading https://files.pythonhosted.org/packages/ef/53/900f7d2a54557c6a37886585a91336520e5539e3ae2423ff1102daf4f3a7/sqlparse-0.3.0-py2.py3-none-any.whl',\n",
       " 'Requirement already satisfied: sqlalchemy>=0.6.7 in c:\\\\users\\\\jvbfc\\\\anaconda3\\\\lib\\\\site-packages (from ipython-sql) (1.2.7)',\n",
       " 'Requirement already satisfied: six in c:\\\\users\\\\jvbfc\\\\anaconda3\\\\lib\\\\site-packages (from ipython-sql) (1.11.0)',\n",
       " 'Requirement already satisfied: ipython>=1.0 in c:\\\\users\\\\jvbfc\\\\anaconda3\\\\lib\\\\site-packages (from ipython-sql) (6.4.0)',\n",
       " 'Collecting prettytable (from ipython-sql)',\n",
       " '  Downloading https://files.pythonhosted.org/packages/ef/30/4b0746848746ed5941f052479e7c23d2b56d174b82f4fd34a25e389831f5/prettytable-0.7.2.tar.bz2',\n",
       " 'Requirement already satisfied: ipython-genutils>=0.1.0 in c:\\\\users\\\\jvbfc\\\\anaconda3\\\\lib\\\\site-packages (from ipython-sql) (0.2.0)',\n",
       " 'Requirement already satisfied: pygments in c:\\\\users\\\\jvbfc\\\\anaconda3\\\\lib\\\\site-packages (from ipython>=1.0->ipython-sql) (2.2.0)',\n",
       " 'Requirement already satisfied: jedi>=0.10 in c:\\\\users\\\\jvbfc\\\\anaconda3\\\\lib\\\\site-packages (from ipython>=1.0->ipython-sql) (0.12.0)',\n",
       " 'Requirement already satisfied: pickleshare in c:\\\\users\\\\jvbfc\\\\anaconda3\\\\lib\\\\site-packages (from ipython>=1.0->ipython-sql) (0.7.4)',\n",
       " 'Requirement already satisfied: setuptools>=18.5 in c:\\\\users\\\\jvbfc\\\\anaconda3\\\\lib\\\\site-packages (from ipython>=1.0->ipython-sql) (39.1.0)',\n",
       " 'Requirement already satisfied: simplegeneric>0.8 in c:\\\\users\\\\jvbfc\\\\anaconda3\\\\lib\\\\site-packages (from ipython>=1.0->ipython-sql) (0.8.1)',\n",
       " 'Requirement already satisfied: prompt-toolkit<2.0.0,>=1.0.15 in c:\\\\users\\\\jvbfc\\\\anaconda3\\\\lib\\\\site-packages (from ipython>=1.0->ipython-sql) (1.0.15)',\n",
       " 'Requirement already satisfied: colorama; sys_platform == \"win32\" in c:\\\\users\\\\jvbfc\\\\anaconda3\\\\lib\\\\site-packages (from ipython>=1.0->ipython-sql) (0.3.9)',\n",
       " 'Requirement already satisfied: traitlets>=4.2 in c:\\\\users\\\\jvbfc\\\\anaconda3\\\\lib\\\\site-packages (from ipython>=1.0->ipython-sql) (4.3.2)',\n",
       " 'Requirement already satisfied: backcall in c:\\\\users\\\\jvbfc\\\\anaconda3\\\\lib\\\\site-packages (from ipython>=1.0->ipython-sql) (0.1.0)',\n",
       " 'Requirement already satisfied: decorator in c:\\\\users\\\\jvbfc\\\\anaconda3\\\\lib\\\\site-packages (from ipython>=1.0->ipython-sql) (4.3.0)',\n",
       " 'Requirement already satisfied: parso>=0.2.0 in c:\\\\users\\\\jvbfc\\\\anaconda3\\\\lib\\\\site-packages (from jedi>=0.10->ipython>=1.0->ipython-sql) (0.2.0)',\n",
       " 'Requirement already satisfied: wcwidth in c:\\\\users\\\\jvbfc\\\\anaconda3\\\\lib\\\\site-packages (from prompt-toolkit<2.0.0,>=1.0.15->ipython>=1.0->ipython-sql) (0.1.7)',\n",
       " 'Building wheels for collected packages: prettytable',\n",
       " '  Running setup.py bdist_wheel for prettytable: started',\n",
       " \"  Running setup.py bdist_wheel for prettytable: finished with status 'done'\",\n",
       " '  Stored in directory: C:\\\\Users\\\\jvbfc\\\\AppData\\\\Local\\\\pip\\\\Cache\\\\wheels\\\\80\\\\34\\\\1c\\\\3967380d9676d162cb59513bd9dc862d0584e045a162095606',\n",
       " 'Successfully built prettytable',\n",
       " 'distributed 1.21.8 requires msgpack, which is not installed.',\n",
       " \"jupyterlab-server 1.0.0 has requirement jsonschema>=3.0.1, but you'll have jsonschema 2.6.0 which is incompatible.\",\n",
       " 'Installing collected packages: sqlparse, prettytable, ipython-sql',\n",
       " 'Successfully installed ipython-sql-0.3.9 prettytable-0.7.2 sqlparse-0.3.0',\n",
       " 'You are using pip version 10.0.1, however version 19.3.1 is available.',\n",
       " \"You should consider upgrading via the 'python -m pip install --upgrade pip' command.\"]"
      ]
     },
     "execution_count": 1,
     "metadata": {},
     "output_type": "execute_result"
    }
   ],
   "source": [
    "%%!\n",
    "pip install --trusted-host pypi.org ipython-sql"
   ]
  },
  {
   "cell_type": "code",
   "execution_count": 4,
   "metadata": {},
   "outputs": [],
   "source": [
    "% load_ext sql"
   ]
  },
  {
   "cell_type": "code",
   "execution_count": 5,
   "metadata": {},
   "outputs": [
    {
     "data": {
      "text/plain": [
       "'Connected: @None'"
      ]
     },
     "execution_count": 5,
     "metadata": {},
     "output_type": "execute_result"
    }
   ],
   "source": [
    "%sql sqlite://"
   ]
  },
  {
   "cell_type": "markdown",
   "metadata": {},
   "source": [
    "### General syntax to create a table:"
   ]
  },
  {
   "cell_type": "code",
   "execution_count": 19,
   "metadata": {},
   "outputs": [
    {
     "name": "stdout",
     "output_type": "stream",
     "text": [
      " * sqlite://\n",
      "(sqlite3.OperationalError) near \".\": syntax error [SQL: 'create table TABLENAME (\\n    COLUMN1 datatype,\\n    COLUMN2 datatype,\\n    COLUMN3 datatype,\\n        ...\\n    ) ;'] (Background on this error at: http://sqlalche.me/e/e3q8)\n"
     ]
    }
   ],
   "source": [
    "%%sql\n",
    "create table TABLENAME (\n",
    "    COLUMN1 datatype,\n",
    "    COLUMN2 datatype,\n",
    "    COLUMN3 datatype,\n",
    "        ...\n",
    "    ) ;"
   ]
  },
  {
   "cell_type": "markdown",
   "metadata": {},
   "source": [
    "### To create a table called TEST with two columns - ID of type integer, and Name of type varchar, we could create it using the following SQL statement:"
   ]
  },
  {
   "cell_type": "code",
   "execution_count": 14,
   "metadata": {},
   "outputs": [
    {
     "name": "stdout",
     "output_type": "stream",
     "text": [
      " * sqlite://\n",
      "Done.\n"
     ]
    },
    {
     "data": {
      "text/plain": [
       "[]"
      ]
     },
     "execution_count": 14,
     "metadata": {},
     "output_type": "execute_result"
    }
   ],
   "source": [
    "%%sql\n",
    "create table TEST (\n",
    "    ID integer,\n",
    "    NAME varchar(30)\n",
    "    );"
   ]
  },
  {
   "cell_type": "markdown",
   "metadata": {},
   "source": [
    "### Now let's create a table called COUNTRY with an ID column, a two letter country code column, and a variable length country name column:"
   ]
  },
  {
   "cell_type": "code",
   "execution_count": 20,
   "metadata": {},
   "outputs": [
    {
     "name": "stdout",
     "output_type": "stream",
     "text": [
      " * sqlite://\n",
      "Done.\n"
     ]
    },
    {
     "data": {
      "text/plain": [
       "[]"
      ]
     },
     "execution_count": 20,
     "metadata": {},
     "output_type": "execute_result"
    }
   ],
   "source": [
    "%%sql\n",
    "create table COUNTRY (\n",
    "    ID int,\n",
    "    CCODE char(2),\n",
    "    NAME varchar(60)\n",
    "    );"
   ]
  },
  {
   "cell_type": "code",
   "execution_count": 22,
   "metadata": {},
   "outputs": [
    {
     "name": "stdout",
     "output_type": "stream",
     "text": [
      " * sqlite://\n",
      "(sqlite3.OperationalError) table COUNTRY already exists [SQL: 'create table COUNTRY (\\n    ID int NOT NULL,\\n    CCODE char(2),\\n    NAME varchar(60),\\n    PRIMARY KEY (ID)\\n    );'] (Background on this error at: http://sqlalche.me/e/e3q8)\n"
     ]
    }
   ],
   "source": [
    "%%sql\n",
    "create table COUNTRY (\n",
    "    ID int NOT NULL,\n",
    "    CCODE char(2),\n",
    "    NAME varchar(60),\n",
    "    PRIMARY KEY (ID)\n",
    "    );"
   ]
  },
  {
   "cell_type": "markdown",
   "metadata": {},
   "source": [
    "### In the above example the ID column has the \"NOT NULL\" constraint added after the datatype - meaning that it cannot contain a NULL or an empty value. If you look at the last row in the create table statement above you will note that we are using ID as a Primary Key and the database does not allow Primary Keys to have NULL values. A Primary Key is a unique identifier in a table, and using Primary Keys can help speed up your queries significantly.\n",
    "\n",
    "### If the table you are trying to create already exists in the database, you will get an error indicating \"table XXX.YYY already exists\". To circumvent this error, either create a table with a different name or first DROP the existing table. It is quite common to issue a DROP before doing a CREATE in test and development scenarios.\n",
    "\n",
    "### Here is an example:"
   ]
  },
  {
   "cell_type": "code",
   "execution_count": 21,
   "metadata": {},
   "outputs": [
    {
     "name": "stdout",
     "output_type": "stream",
     "text": [
      " * sqlite://\n",
      "Done.\n",
      "Done.\n"
     ]
    },
    {
     "data": {
      "text/plain": [
       "[]"
      ]
     },
     "execution_count": 21,
     "metadata": {},
     "output_type": "execute_result"
    }
   ],
   "source": [
    "%%sql \n",
    "\n",
    "drop table COUNTRY;\n",
    "create table COUNTRY (\n",
    "    ID integer PRIMARY KEY NOT NULL,\n",
    "    CCODE char(2),\n",
    "    NAME varchar(60)\n",
    "    );"
   ]
  },
  {
   "cell_type": "code",
   "execution_count": 9,
   "metadata": {},
   "outputs": [
    {
     "name": "stdout",
     "output_type": "stream",
     "text": [
      " * sqlite://\n",
      "(sqlite3.OperationalError) table CARTOON already exists [SQL: 'CREATE TABLE CARTOON(firstname varchar(50), lastname varchar(50));'] (Background on this error at: http://sqlalche.me/e/e3q8)\n"
     ]
    }
   ],
   "source": [
    "%%sql\n",
    "CREATE TABLE CARTOON(firstname varchar(50), lastname varchar(50));\n",
    "INSERT INTO CARTOON VALUES(\"daffy\", \"duck\");\n",
    "INSERT INTO CARTOOM VALUES(\"Mickey\", \"Mouse\");\n",
    "SELECT * from CARTOON;"
   ]
  }
 ],
 "metadata": {
  "kernelspec": {
   "display_name": "Python 3",
   "language": "python",
   "name": "python3"
  },
  "language_info": {
   "codemirror_mode": {
    "name": "ipython",
    "version": 3
   },
   "file_extension": ".py",
   "mimetype": "text/x-python",
   "name": "python",
   "nbconvert_exporter": "python",
   "pygments_lexer": "ipython3",
   "version": "3.6.5"
  }
 },
 "nbformat": 4,
 "nbformat_minor": 2
}
