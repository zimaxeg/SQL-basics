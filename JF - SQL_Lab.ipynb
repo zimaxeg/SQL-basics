{
 "cells": [
  {
   "cell_type": "markdown",
   "metadata": {},
   "source": [
    "## Hands-on Lab"
   ]
  },
  {
   "cell_type": "markdown",
   "metadata": {},
   "source": [
    "### In this Lab we will creat the table below using SQL"
   ]
  },
  {
   "cell_type": "markdown",
   "metadata": {},
   "source": [
    "![title](https://d3c33hcgiwev3.cloudfront.net/imageAssetProxy.v1/j-hOrU2HEei-Qgpt2td5Qg_6b9f5ac9b0ce3ada08e42d07825e1317_Instructor.jpg?expiry=1577145600000&hmac=vftSiFIC36jngq6yx997S67Yi9yg5uJIsIhkYNj21XY)"
   ]
  },
  {
   "cell_type": "code",
   "execution_count": 1,
   "metadata": {},
   "outputs": [
    {
     "data": {
      "text/plain": [
       "'Connected: @None'"
      ]
     },
     "execution_count": 1,
     "metadata": {},
     "output_type": "execute_result"
    }
   ],
   "source": [
    "%load_ext sql\n",
    "%sql sqlite://"
   ]
  },
  {
   "cell_type": "code",
   "execution_count": 38,
   "metadata": {},
   "outputs": [
    {
     "name": "stdout",
     "output_type": "stream",
     "text": [
      " * sqlite://\n",
      "Done.\n"
     ]
    },
    {
     "data": {
      "text/plain": [
       "[]"
      ]
     },
     "execution_count": 38,
     "metadata": {},
     "output_type": "execute_result"
    }
   ],
   "source": [
    "%%sql\n",
    "drop table INSTRUCTOR"
   ]
  },
  {
   "cell_type": "markdown",
   "metadata": {},
   "source": [
    "Obs: **CHAR()** = sequência de carcteres de tamanho fixo, nesse caso, o tamanho é 2 **CHAR(2)** pois na coluna country so aparece palavras com 2 caracteres (US, CA, UK, etc)\n",
    "**VARCHAR()** = sequência de caracteres de tamanho variável, o argumento será o tamanho máximo, no caso, não deve existir nenhum país, cidade, etc com um nome com mais de 20 caracteres, então podemos fazer **VARCHAR(20)** para as as variáveis com caracteres variáveis, como firstname, lastname e city"
   ]
  },
  {
   "cell_type": "code",
   "execution_count": 39,
   "metadata": {},
   "outputs": [
    {
     "name": "stdout",
     "output_type": "stream",
     "text": [
      " * sqlite://\n",
      "Done.\n"
     ]
    },
    {
     "data": {
      "text/plain": [
       "[]"
      ]
     },
     "execution_count": 39,
     "metadata": {},
     "output_type": "execute_result"
    }
   ],
   "source": [
    "%%sql\n",
    "\n",
    "create table INSTRUCTOR (\n",
    "    ins_id int NOT NULL,\n",
    "    lastname VARCHAR(20) NOT NULL,\n",
    "    firstname VARCHAR(20)NOT NULL,\n",
    "    city VARCHAR(20),\n",
    "    country CHAR(2),    \n",
    "\n",
    "    PRIMARY KEY(ins_id)\n",
    ");"
   ]
  },
  {
   "cell_type": "code",
   "execution_count": 40,
   "metadata": {},
   "outputs": [
    {
     "name": "stdout",
     "output_type": "stream",
     "text": [
      " * sqlite://\n",
      "1 rows affected.\n"
     ]
    },
    {
     "data": {
      "text/plain": [
       "[]"
      ]
     },
     "execution_count": 40,
     "metadata": {},
     "output_type": "execute_result"
    }
   ],
   "source": [
    "%%sql\n",
    "\n",
    "INSERT INTO INSTRUCTOR\n",
    "   (ins_id, lastname, firstname, city, country)\n",
    "\n",
    "   VALUES\n",
    "   (1, 'Ahuja', 'Rav', 'Toronto', 'CA')\n",
    "  ;"
   ]
  },
  {
   "cell_type": "code",
   "execution_count": 41,
   "metadata": {},
   "outputs": [
    {
     "name": "stdout",
     "output_type": "stream",
     "text": [
      " * sqlite://\n",
      "2 rows affected.\n"
     ]
    },
    {
     "data": {
      "text/plain": [
       "[]"
      ]
     },
     "execution_count": 41,
     "metadata": {},
     "output_type": "execute_result"
    }
   ],
   "source": [
    "%%sql\n",
    "\n",
    "INSERT INTO INSTRUCTOR\n",
    "  VALUES\n",
    "  (2, 'Chong', 'Raul', 'Toronto', 'CA'),\n",
    "  (3, 'Vasudevan', 'Hima', 'Chicago', 'US')\n",
    ";\n"
   ]
  },
  {
   "cell_type": "code",
   "execution_count": 43,
   "metadata": {},
   "outputs": [
    {
     "name": "stdout",
     "output_type": "stream",
     "text": [
      " * sqlite://\n",
      "Done.\n"
     ]
    },
    {
     "data": {
      "text/html": [
       "<table>\n",
       "    <tr>\n",
       "        <th>ins_id</th>\n",
       "        <th>lastname</th>\n",
       "        <th>firstname</th>\n",
       "        <th>city</th>\n",
       "        <th>country</th>\n",
       "    </tr>\n",
       "    <tr>\n",
       "        <td>1</td>\n",
       "        <td>Ahuja</td>\n",
       "        <td>Rav</td>\n",
       "        <td>Toronto</td>\n",
       "        <td>CA</td>\n",
       "    </tr>\n",
       "    <tr>\n",
       "        <td>2</td>\n",
       "        <td>Chong</td>\n",
       "        <td>Raul</td>\n",
       "        <td>Toronto</td>\n",
       "        <td>CA</td>\n",
       "    </tr>\n",
       "    <tr>\n",
       "        <td>3</td>\n",
       "        <td>Vasudevan</td>\n",
       "        <td>Hima</td>\n",
       "        <td>Chicago</td>\n",
       "        <td>US</td>\n",
       "    </tr>\n",
       "</table>"
      ],
      "text/plain": [
       "[(1, 'Ahuja', 'Rav', 'Toronto', 'CA'),\n",
       " (2, 'Chong', 'Raul', 'Toronto', 'CA'),\n",
       " (3, 'Vasudevan', 'Hima', 'Chicago', 'US')]"
      ]
     },
     "execution_count": 43,
     "metadata": {},
     "output_type": "execute_result"
    }
   ],
   "source": [
    "%%sql\n",
    "\n",
    "select * from INSTRUCTOR"
   ]
  },
  {
   "cell_type": "markdown",
   "metadata": {},
   "source": [
    "### Select people from Canada:"
   ]
  },
  {
   "cell_type": "code",
   "execution_count": 47,
   "metadata": {},
   "outputs": [
    {
     "name": "stdout",
     "output_type": "stream",
     "text": [
      " * sqlite://\n",
      "Done.\n"
     ]
    },
    {
     "data": {
      "text/html": [
       "<table>\n",
       "    <tr>\n",
       "        <th>firstname</th>\n",
       "        <th>lastname</th>\n",
       "    </tr>\n",
       "    <tr>\n",
       "        <td>Rav</td>\n",
       "        <td>Ahuja</td>\n",
       "    </tr>\n",
       "    <tr>\n",
       "        <td>Raul</td>\n",
       "        <td>Chong</td>\n",
       "    </tr>\n",
       "</table>"
      ],
      "text/plain": [
       "[('Rav', 'Ahuja'), ('Raul', 'Chong')]"
      ]
     },
     "execution_count": 47,
     "metadata": {},
     "output_type": "execute_result"
    }
   ],
   "source": [
    "%%sql \n",
    "\n",
    "select firstname,lastname from INSTRUCTOR\n",
    "   where country = 'CA'"
   ]
  },
  {
   "cell_type": "code",
   "execution_count": 49,
   "metadata": {},
   "outputs": [
    {
     "name": "stdout",
     "output_type": "stream",
     "text": [
      " * sqlite://\n",
      "1 rows affected.\n"
     ]
    },
    {
     "data": {
      "text/plain": [
       "[]"
      ]
     },
     "execution_count": 49,
     "metadata": {},
     "output_type": "execute_result"
    }
   ],
   "source": [
    "%%sql\n",
    "\n",
    "update INSTRUCTOR\n",
    "set  city = 'Markham'\n",
    "where ins_id = 1"
   ]
  },
  {
   "cell_type": "code",
   "execution_count": 52,
   "metadata": {},
   "outputs": [
    {
     "name": "stdout",
     "output_type": "stream",
     "text": [
      " * sqlite://\n",
      "Done.\n"
     ]
    },
    {
     "data": {
      "text/html": [
       "<table>\n",
       "    <tr>\n",
       "        <th>ins_id</th>\n",
       "        <th>lastname</th>\n",
       "        <th>firstname</th>\n",
       "        <th>city</th>\n",
       "        <th>country</th>\n",
       "    </tr>\n",
       "    <tr>\n",
       "        <td>1</td>\n",
       "        <td>Ahuja</td>\n",
       "        <td>Rav</td>\n",
       "        <td>Markham</td>\n",
       "        <td>CA</td>\n",
       "    </tr>\n",
       "    <tr>\n",
       "        <td>2</td>\n",
       "        <td>Chong</td>\n",
       "        <td>Raul</td>\n",
       "        <td>Toronto</td>\n",
       "        <td>CA</td>\n",
       "    </tr>\n",
       "    <tr>\n",
       "        <td>3</td>\n",
       "        <td>Vasudevan</td>\n",
       "        <td>Hima</td>\n",
       "        <td>Chicago</td>\n",
       "        <td>US</td>\n",
       "    </tr>\n",
       "</table>"
      ],
      "text/plain": [
       "[(1, 'Ahuja', 'Rav', 'Markham', 'CA'),\n",
       " (2, 'Chong', 'Raul', 'Toronto', 'CA'),\n",
       " (3, 'Vasudevan', 'Hima', 'Chicago', 'US')]"
      ]
     },
     "execution_count": 52,
     "metadata": {},
     "output_type": "execute_result"
    }
   ],
   "source": [
    "%%sql\n",
    "\n",
    "select * from INSTRUCTOR"
   ]
  },
  {
   "cell_type": "code",
   "execution_count": 56,
   "metadata": {},
   "outputs": [
    {
     "name": "stdout",
     "output_type": "stream",
     "text": [
      " * sqlite://\n",
      "2 rows affected.\n"
     ]
    },
    {
     "data": {
      "text/plain": [
       "[]"
      ]
     },
     "execution_count": 56,
     "metadata": {},
     "output_type": "execute_result"
    }
   ],
   "source": [
    "%%sql\n",
    "\n",
    "delete from INSTRUCTOR\n",
    "\n",
    "WHERE ins_id in ('1','2')"
   ]
  },
  {
   "cell_type": "code",
   "execution_count": 61,
   "metadata": {},
   "outputs": [
    {
     "name": "stdout",
     "output_type": "stream",
     "text": [
      " * sqlite://\n",
      "Done.\n"
     ]
    },
    {
     "data": {
      "text/html": [
       "<table>\n",
       "    <tr>\n",
       "        <th>ins_id</th>\n",
       "        <th>lastname</th>\n",
       "        <th>firstname</th>\n",
       "        <th>city</th>\n",
       "        <th>country</th>\n",
       "    </tr>\n",
       "    <tr>\n",
       "        <td>3</td>\n",
       "        <td>Vasudevan</td>\n",
       "        <td>Hima</td>\n",
       "        <td>Chicago</td>\n",
       "        <td>US</td>\n",
       "    </tr>\n",
       "</table>"
      ],
      "text/plain": [
       "[(3, 'Vasudevan', 'Hima', 'Chicago', 'US')]"
      ]
     },
     "execution_count": 61,
     "metadata": {},
     "output_type": "execute_result"
    }
   ],
   "source": [
    "%%sql\n",
    "\n",
    "select * from INSTRUCTOR "
   ]
  }
 ],
 "metadata": {
  "kernelspec": {
   "display_name": "Python 3",
   "language": "python",
   "name": "python3"
  },
  "language_info": {
   "codemirror_mode": {
    "name": "ipython",
    "version": 3
   },
   "file_extension": ".py",
   "mimetype": "text/x-python",
   "name": "python",
   "nbconvert_exporter": "python",
   "pygments_lexer": "ipython3",
   "version": "3.6.5"
  }
 },
 "nbformat": 4,
 "nbformat_minor": 2
}
