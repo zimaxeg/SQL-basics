{
 "cells": [
  {
   "cell_type": "markdown",
   "metadata": {},
   "source": [
    "# LAB: String Patterns, Sorting & Grouping"
   ]
  },
  {
   "cell_type": "code",
   "execution_count": 1,
   "metadata": {},
   "outputs": [],
   "source": [
    "%load_ext sql"
   ]
  },
  {
   "cell_type": "code",
   "execution_count": 11,
   "metadata": {},
   "outputs": [
    {
     "data": {
      "text/plain": [
       "'Connected: @None'"
      ]
     },
     "execution_count": 11,
     "metadata": {},
     "output_type": "execute_result"
    }
   ],
   "source": [
    "%sql sqlite://"
   ]
  },
  {
   "cell_type": "markdown",
   "metadata": {},
   "source": [
    "## Create 4 tables"
   ]
  },
  {
   "cell_type": "code",
   "execution_count": 32,
   "metadata": {},
   "outputs": [
    {
     "name": "stdout",
     "output_type": "stream",
     "text": [
      " * sqlite://\n",
      "(sqlite3.OperationalError) table EMPLOYEES already exists [SQL: 'CREATE TABLE EMPLOYEES (\\n                            EMP_ID CHAR(9) NOT NULL, \\n                            F_NAME VARCHAR(15) NOT NULL,\\n                            L_NAME VARCHAR(15) NOT NULL,\\n                            SSN CHAR(9),\\n                            B_DATE DATE,\\n                            SEX CHAR,\\n                            ADDRESS VARCHAR(30),\\n                            JOB_ID CHAR(9),\\n                            SALARY DECIMAL(10,2),\\n                            MANAGER_ID CHAR(9),\\n                            DEP_ID CHAR(9) NOT NULL,\\n                            PRIMARY KEY (EMP_ID));'] (Background on this error at: http://sqlalche.me/e/e3q8)\n"
     ]
    }
   ],
   "source": [
    "%%sql\n",
    "\n",
    "CREATE TABLE EMPLOYEES (\n",
    "                            EMP_ID CHAR(9) NOT NULL, \n",
    "                            F_NAME VARCHAR(15) NOT NULL,\n",
    "                            L_NAME VARCHAR(15) NOT NULL,\n",
    "                            SSN CHAR(9),\n",
    "                            B_DATE DATE,\n",
    "                            SEX CHAR,\n",
    "                            ADDRESS VARCHAR(30),\n",
    "                            JOB_ID CHAR(9),\n",
    "                            SALARY DECIMAL(10,2),\n",
    "                            MANAGER_ID CHAR(9),\n",
    "                            DEP_ID CHAR(9) NOT NULL,\n",
    "                            PRIMARY KEY (EMP_ID));\n",
    "                            "
   ]
  },
  {
   "cell_type": "code",
   "execution_count": 13,
   "metadata": {},
   "outputs": [
    {
     "name": "stdout",
     "output_type": "stream",
     "text": [
      " * sqlite://\n",
      "Done.\n"
     ]
    },
    {
     "data": {
      "text/plain": [
       "[]"
      ]
     },
     "execution_count": 13,
     "metadata": {},
     "output_type": "execute_result"
    }
   ],
   "source": [
    "%%sql\n",
    "\n",
    "CREATE TABLE JOB_HISTORY (\n",
    "                            EMPL_ID CHAR(9) NOT NULL, \n",
    "                            START_DATE DATE,\n",
    "                            JOBS_ID CHAR(9) NOT NULL,\n",
    "                            DEPT_ID CHAR(9),\n",
    "                            PRIMARY KEY (EMPL_ID,JOBS_ID));\n",
    " "
   ]
  },
  {
   "cell_type": "code",
   "execution_count": 14,
   "metadata": {},
   "outputs": [
    {
     "name": "stdout",
     "output_type": "stream",
     "text": [
      " * sqlite://\n",
      "Done.\n"
     ]
    },
    {
     "data": {
      "text/plain": [
       "[]"
      ]
     },
     "execution_count": 14,
     "metadata": {},
     "output_type": "execute_result"
    }
   ],
   "source": [
    "%%sql\n",
    "\n",
    "CREATE TABLE JOBS (\n",
    "                            JOB_IDENT CHAR(9) NOT NULL, \n",
    "                            JOB_TITLE VARCHAR(15) ,\n",
    "                            MIN_SALARY DECIMAL(10,2),\n",
    "                            MAX_SALARY DECIMAL(10,2),\n",
    "                            PRIMARY KEY (JOB_IDENT));"
   ]
  },
  {
   "cell_type": "code",
   "execution_count": 33,
   "metadata": {},
   "outputs": [
    {
     "name": "stdout",
     "output_type": "stream",
     "text": [
      " * sqlite://\n",
      "(sqlite3.OperationalError) table DEPARTMENTS already exists [SQL: 'CREATE TABLE DEPARTMENTS (\\n                            DEPT_ID_DEP CHAR(9) NOT NULL, \\n                            DEP_NAME VARCHAR(15) ,\\n                            MANAGER_ID CHAR(9),\\n                            LOC_ID CHAR(9),\\n                            PRIMARY KEY (DEPT_ID_DEP));'] (Background on this error at: http://sqlalche.me/e/e3q8)\n"
     ]
    }
   ],
   "source": [
    "%%sql \n",
    "\n",
    "CREATE TABLE DEPARTMENTS (\n",
    "                            DEPT_ID_DEP CHAR(9) NOT NULL, \n",
    "                            DEP_NAME VARCHAR(15) ,\n",
    "                            MANAGER_ID CHAR(9),\n",
    "                            LOC_ID CHAR(9),\n",
    "                            PRIMARY KEY (DEPT_ID_DEP));\n"
   ]
  },
  {
   "cell_type": "code",
   "execution_count": 16,
   "metadata": {},
   "outputs": [
    {
     "name": "stdout",
     "output_type": "stream",
     "text": [
      " * sqlite://\n",
      "Done.\n"
     ]
    },
    {
     "data": {
      "text/plain": [
       "[]"
      ]
     },
     "execution_count": 16,
     "metadata": {},
     "output_type": "execute_result"
    }
   ],
   "source": [
    "%%sql\n",
    "\n",
    "CREATE TABLE LOCATIONS (\n",
    "                            LOCT_ID CHAR(9) NOT NULL,\n",
    "                            DEP_ID_LOC CHAR(9) NOT NULL,\n",
    "                            PRIMARY KEY (LOCT_ID,DEP_ID_LOC));\n",
    "                            \n"
   ]
  },
  {
   "cell_type": "markdown",
   "metadata": {},
   "source": [
    "## Insert data into tables"
   ]
  },
  {
   "cell_type": "code",
   "execution_count": 20,
   "metadata": {},
   "outputs": [
    {
     "name": "stdout",
     "output_type": "stream",
     "text": [
      " * sqlite://\n",
      "1 rows affected.\n"
     ]
    },
    {
     "data": {
      "text/plain": [
       "[]"
      ]
     },
     "execution_count": 20,
     "metadata": {},
     "output_type": "execute_result"
    }
   ],
   "source": [
    "%%sql\n",
    "\n",
    "insert into EMPLOYEES\n",
    "(EMP_ID, F_NAME, L_NAME, SSN, B_DATE, SEX, ADDRESS, JOB_ID, SALARY, MANAGER_ID, DEP_ID)\n",
    "VALUES\n",
    "('E1001','John', 'Thomas','123456','01/09/1976','M','\"5631 Rice, OakPark,IL\"','100','100000','30001','2')\n"
   ]
  },
  {
   "cell_type": "code",
   "execution_count": 21,
   "metadata": {},
   "outputs": [
    {
     "name": "stdout",
     "output_type": "stream",
     "text": [
      " * sqlite://\n",
      "Done.\n"
     ]
    },
    {
     "data": {
      "text/html": [
       "<table>\n",
       "    <tr>\n",
       "        <th>EMP_ID</th>\n",
       "        <th>F_NAME</th>\n",
       "        <th>L_NAME</th>\n",
       "        <th>SSN</th>\n",
       "        <th>B_DATE</th>\n",
       "        <th>SEX</th>\n",
       "        <th>ADDRESS</th>\n",
       "        <th>JOB_ID</th>\n",
       "        <th>SALARY</th>\n",
       "        <th>MANAGER_ID</th>\n",
       "        <th>DEP_ID</th>\n",
       "    </tr>\n",
       "    <tr>\n",
       "        <td>E1001</td>\n",
       "        <td>John</td>\n",
       "        <td>Thomas</td>\n",
       "        <td>123456</td>\n",
       "        <td>01/09/1976</td>\n",
       "        <td>M</td>\n",
       "        <td>&quot;5631 Rice, OakPark,IL&quot;</td>\n",
       "        <td>100</td>\n",
       "        <td>100000</td>\n",
       "        <td>30001</td>\n",
       "        <td>2</td>\n",
       "    </tr>\n",
       "</table>"
      ],
      "text/plain": [
       "[('E1001', 'John', 'Thomas', '123456', '01/09/1976', 'M', '\"5631 Rice, OakPark,IL\"', '100', 100000, '30001', '2')]"
      ]
     },
     "execution_count": 21,
     "metadata": {},
     "output_type": "execute_result"
    }
   ],
   "source": [
    "%%sql\n",
    "select * from EMPLOYEES"
   ]
  },
  {
   "cell_type": "code",
   "execution_count": 24,
   "metadata": {},
   "outputs": [
    {
     "name": "stdout",
     "output_type": "stream",
     "text": [
      " * sqlite://\n",
      "1 rows affected.\n"
     ]
    },
    {
     "data": {
      "text/plain": [
       "[]"
      ]
     },
     "execution_count": 24,
     "metadata": {},
     "output_type": "execute_result"
    }
   ],
   "source": [
    "%%sql\n",
    "\n",
    "update EMPLOYEES\n",
    "SET ADDRESS = \"5631 Rice, OakPark,IL\"\n",
    "where F_NAME = 'John'"
   ]
  },
  {
   "cell_type": "code",
   "execution_count": 27,
   "metadata": {},
   "outputs": [
    {
     "name": "stdout",
     "output_type": "stream",
     "text": [
      " * sqlite://\n",
      "Done.\n"
     ]
    },
    {
     "data": {
      "text/html": [
       "<table>\n",
       "    <tr>\n",
       "        <th>EMP_ID</th>\n",
       "        <th>F_NAME</th>\n",
       "        <th>L_NAME</th>\n",
       "        <th>SSN</th>\n",
       "        <th>B_DATE</th>\n",
       "        <th>SEX</th>\n",
       "        <th>ADDRESS</th>\n",
       "        <th>JOB_ID</th>\n",
       "        <th>SALARY</th>\n",
       "        <th>MANAGER_ID</th>\n",
       "        <th>DEP_ID</th>\n",
       "    </tr>\n",
       "    <tr>\n",
       "        <td>E1001</td>\n",
       "        <td>John</td>\n",
       "        <td>Thomas</td>\n",
       "        <td>123456</td>\n",
       "        <td>01/09/1976</td>\n",
       "        <td>M</td>\n",
       "        <td>5631 Rice, OakPark,IL</td>\n",
       "        <td>100</td>\n",
       "        <td>100000</td>\n",
       "        <td>30001</td>\n",
       "        <td>2</td>\n",
       "    </tr>\n",
       "</table>"
      ],
      "text/plain": [
       "[('E1001', 'John', 'Thomas', '123456', '01/09/1976', 'M', '5631 Rice, OakPark,IL', '100', 100000, '30001', '2')]"
      ]
     },
     "execution_count": 27,
     "metadata": {},
     "output_type": "execute_result"
    }
   ],
   "source": [
    "%%sql\n",
    "\n",
    "Select * from Employees"
   ]
  },
  {
   "cell_type": "markdown",
   "metadata": {},
   "source": [
    "### Let's insert the rest of the data"
   ]
  },
  {
   "cell_type": "code",
   "execution_count": 28,
   "metadata": {},
   "outputs": [
    {
     "name": "stdout",
     "output_type": "stream",
     "text": [
      " * sqlite://\n",
      "9 rows affected.\n"
     ]
    },
    {
     "data": {
      "text/plain": [
       "[]"
      ]
     },
     "execution_count": 28,
     "metadata": {},
     "output_type": "execute_result"
    }
   ],
   "source": [
    "%%sql\n",
    "\n",
    "insert into EMPLOYEES\n",
    "(EMP_ID, F_NAME, L_NAME, SSN, B_DATE, SEX, ADDRESS, JOB_ID, SALARY, MANAGER_ID, DEP_ID)\n",
    "VALUES\n",
    "('E1002','Alice','James','123457','07/31/1972','F',\"980 Berry ln, Elgin,IL\",'200','80000','30002','5'),\n",
    "('E1003','Steve','Wells','123458','08/10/1980','M',\"291 Springs, Gary,IL\",'300','50000','30002','5'),\n",
    "('E1004','Santosh','Kumar','123459','07/20/1985','M',\"511 Aurora Av, Aurora,IL\",'400','60000','30004','5'),\n",
    "('E1005','Ahmed','Hussain','123410','01/04/1981','M',\"216 Oak Tree, Geneva,IL\",'500','70000','30001','2'),\n",
    "('E1006','Nancy','Allen','123411','02/06/1978','F',\"111 Green Pl, Elgin,IL\",'600','90000','30001','2'),\n",
    "('E1007','Mary','Thomas','123412','05/05/1975','F',\"100 Rose Pl, Gary,IL\",'650','65000','30003','7'),\n",
    "('E1008','Bharath','Gupta','123413','05/06/1985','M',\"145 Berry Ln, Naperville,IL\",'660','65000','30003','7'),\n",
    "('E1009','Andrea','Jones','123414','07/09/1990','F',\"120 Fall Creek, Gary,IL\",'234','70000','30003','7'),\n",
    "('E1010','Ann','Jacob','123415','03/30/1982','F',\"111 Britany Springs,Elgin,IL\",'220','70000','30004','5')\n"
   ]
  },
  {
   "cell_type": "code",
   "execution_count": 29,
   "metadata": {},
   "outputs": [
    {
     "name": "stdout",
     "output_type": "stream",
     "text": [
      " * sqlite://\n",
      "Done.\n"
     ]
    },
    {
     "data": {
      "text/html": [
       "<table>\n",
       "    <tr>\n",
       "        <th>EMP_ID</th>\n",
       "        <th>F_NAME</th>\n",
       "        <th>L_NAME</th>\n",
       "        <th>SSN</th>\n",
       "        <th>B_DATE</th>\n",
       "        <th>SEX</th>\n",
       "        <th>ADDRESS</th>\n",
       "        <th>JOB_ID</th>\n",
       "        <th>SALARY</th>\n",
       "        <th>MANAGER_ID</th>\n",
       "        <th>DEP_ID</th>\n",
       "    </tr>\n",
       "    <tr>\n",
       "        <td>E1001</td>\n",
       "        <td>John</td>\n",
       "        <td>Thomas</td>\n",
       "        <td>123456</td>\n",
       "        <td>01/09/1976</td>\n",
       "        <td>M</td>\n",
       "        <td>5631 Rice, OakPark,IL</td>\n",
       "        <td>100</td>\n",
       "        <td>100000</td>\n",
       "        <td>30001</td>\n",
       "        <td>2</td>\n",
       "    </tr>\n",
       "    <tr>\n",
       "        <td>E1002</td>\n",
       "        <td>Alice</td>\n",
       "        <td>James</td>\n",
       "        <td>123457</td>\n",
       "        <td>07/31/1972</td>\n",
       "        <td>F</td>\n",
       "        <td>980 Berry ln, Elgin,IL</td>\n",
       "        <td>200</td>\n",
       "        <td>80000</td>\n",
       "        <td>30002</td>\n",
       "        <td>5</td>\n",
       "    </tr>\n",
       "    <tr>\n",
       "        <td>E1003</td>\n",
       "        <td>Steve</td>\n",
       "        <td>Wells</td>\n",
       "        <td>123458</td>\n",
       "        <td>08/10/1980</td>\n",
       "        <td>M</td>\n",
       "        <td>291 Springs, Gary,IL</td>\n",
       "        <td>300</td>\n",
       "        <td>50000</td>\n",
       "        <td>30002</td>\n",
       "        <td>5</td>\n",
       "    </tr>\n",
       "    <tr>\n",
       "        <td>E1004</td>\n",
       "        <td>Santosh</td>\n",
       "        <td>Kumar</td>\n",
       "        <td>123459</td>\n",
       "        <td>07/20/1985</td>\n",
       "        <td>M</td>\n",
       "        <td>511 Aurora Av, Aurora,IL</td>\n",
       "        <td>400</td>\n",
       "        <td>60000</td>\n",
       "        <td>30004</td>\n",
       "        <td>5</td>\n",
       "    </tr>\n",
       "    <tr>\n",
       "        <td>E1005</td>\n",
       "        <td>Ahmed</td>\n",
       "        <td>Hussain</td>\n",
       "        <td>123410</td>\n",
       "        <td>01/04/1981</td>\n",
       "        <td>M</td>\n",
       "        <td>216 Oak Tree, Geneva,IL</td>\n",
       "        <td>500</td>\n",
       "        <td>70000</td>\n",
       "        <td>30001</td>\n",
       "        <td>2</td>\n",
       "    </tr>\n",
       "    <tr>\n",
       "        <td>E1006</td>\n",
       "        <td>Nancy</td>\n",
       "        <td>Allen</td>\n",
       "        <td>123411</td>\n",
       "        <td>02/06/1978</td>\n",
       "        <td>F</td>\n",
       "        <td>111 Green Pl, Elgin,IL</td>\n",
       "        <td>600</td>\n",
       "        <td>90000</td>\n",
       "        <td>30001</td>\n",
       "        <td>2</td>\n",
       "    </tr>\n",
       "    <tr>\n",
       "        <td>E1007</td>\n",
       "        <td>Mary</td>\n",
       "        <td>Thomas</td>\n",
       "        <td>123412</td>\n",
       "        <td>05/05/1975</td>\n",
       "        <td>F</td>\n",
       "        <td>100 Rose Pl, Gary,IL</td>\n",
       "        <td>650</td>\n",
       "        <td>65000</td>\n",
       "        <td>30003</td>\n",
       "        <td>7</td>\n",
       "    </tr>\n",
       "    <tr>\n",
       "        <td>E1008</td>\n",
       "        <td>Bharath</td>\n",
       "        <td>Gupta</td>\n",
       "        <td>123413</td>\n",
       "        <td>05/06/1985</td>\n",
       "        <td>M</td>\n",
       "        <td>145 Berry Ln, Naperville,IL</td>\n",
       "        <td>660</td>\n",
       "        <td>65000</td>\n",
       "        <td>30003</td>\n",
       "        <td>7</td>\n",
       "    </tr>\n",
       "    <tr>\n",
       "        <td>E1009</td>\n",
       "        <td>Andrea</td>\n",
       "        <td>Jones</td>\n",
       "        <td>123414</td>\n",
       "        <td>07/09/1990</td>\n",
       "        <td>F</td>\n",
       "        <td>120 Fall Creek, Gary,IL</td>\n",
       "        <td>234</td>\n",
       "        <td>70000</td>\n",
       "        <td>30003</td>\n",
       "        <td>7</td>\n",
       "    </tr>\n",
       "    <tr>\n",
       "        <td>E1010</td>\n",
       "        <td>Ann</td>\n",
       "        <td>Jacob</td>\n",
       "        <td>123415</td>\n",
       "        <td>03/30/1982</td>\n",
       "        <td>F</td>\n",
       "        <td>111 Britany Springs,Elgin,IL</td>\n",
       "        <td>220</td>\n",
       "        <td>70000</td>\n",
       "        <td>30004</td>\n",
       "        <td>5</td>\n",
       "    </tr>\n",
       "</table>"
      ],
      "text/plain": [
       "[('E1001', 'John', 'Thomas', '123456', '01/09/1976', 'M', '5631 Rice, OakPark,IL', '100', 100000, '30001', '2'),\n",
       " ('E1002', 'Alice', 'James', '123457', '07/31/1972', 'F', '980 Berry ln, Elgin,IL', '200', 80000, '30002', '5'),\n",
       " ('E1003', 'Steve', 'Wells', '123458', '08/10/1980', 'M', '291 Springs, Gary,IL', '300', 50000, '30002', '5'),\n",
       " ('E1004', 'Santosh', 'Kumar', '123459', '07/20/1985', 'M', '511 Aurora Av, Aurora,IL', '400', 60000, '30004', '5'),\n",
       " ('E1005', 'Ahmed', 'Hussain', '123410', '01/04/1981', 'M', '216 Oak Tree, Geneva,IL', '500', 70000, '30001', '2'),\n",
       " ('E1006', 'Nancy', 'Allen', '123411', '02/06/1978', 'F', '111 Green Pl, Elgin,IL', '600', 90000, '30001', '2'),\n",
       " ('E1007', 'Mary', 'Thomas', '123412', '05/05/1975', 'F', '100 Rose Pl, Gary,IL', '650', 65000, '30003', '7'),\n",
       " ('E1008', 'Bharath', 'Gupta', '123413', '05/06/1985', 'M', '145 Berry Ln, Naperville,IL', '660', 65000, '30003', '7'),\n",
       " ('E1009', 'Andrea', 'Jones', '123414', '07/09/1990', 'F', '120 Fall Creek, Gary,IL', '234', 70000, '30003', '7'),\n",
       " ('E1010', 'Ann', 'Jacob', '123415', '03/30/1982', 'F', '111 Britany Springs,Elgin,IL', '220', 70000, '30004', '5')]"
      ]
     },
     "execution_count": 29,
     "metadata": {},
     "output_type": "execute_result"
    }
   ],
   "source": [
    "%%sql \n",
    "\n",
    "select * from EMPLOYEES"
   ]
  },
  {
   "cell_type": "code",
   "execution_count": 37,
   "metadata": {},
   "outputs": [
    {
     "name": "stdout",
     "output_type": "stream",
     "text": [
      " * sqlite://\n",
      "3 rows affected.\n"
     ]
    },
    {
     "data": {
      "text/plain": [
       "[]"
      ]
     },
     "execution_count": 37,
     "metadata": {},
     "output_type": "execute_result"
    }
   ],
   "source": [
    "%%sql\n",
    "\n",
    "insert into DEPARTMENTS\n",
    "(DEPT_ID_DEP, DEP_NAME, MANAGER_ID, LOC_ID)\n",
    "VALUES\n",
    "('2','Architect Group','30001','L0001'),\n",
    "('5','Software Group','30002','L0002'),\n",
    "('7','Design Team','30003','L0003')\n",
    "\n"
   ]
  },
  {
   "cell_type": "markdown",
   "metadata": {},
   "source": [
    "## Questions:"
   ]
  },
  {
   "cell_type": "markdown",
   "metadata": {},
   "source": [
    "### Retrieve all employees whose address is in Elgin,IL"
   ]
  },
  {
   "cell_type": "code",
   "execution_count": 42,
   "metadata": {},
   "outputs": [
    {
     "name": "stdout",
     "output_type": "stream",
     "text": [
      " * sqlite://\n",
      "0 rows affected.\n",
      "Done.\n"
     ]
    },
    {
     "data": {
      "text/html": [
       "<table>\n",
       "    <tr>\n",
       "        <th>F_NAME</th>\n",
       "        <th>L_NAME</th>\n",
       "    </tr>\n",
       "    <tr>\n",
       "        <td>Alice</td>\n",
       "        <td>James</td>\n",
       "    </tr>\n",
       "    <tr>\n",
       "        <td>Nancy</td>\n",
       "        <td>Allen</td>\n",
       "    </tr>\n",
       "    <tr>\n",
       "        <td>Ann</td>\n",
       "        <td>Jacob</td>\n",
       "    </tr>\n",
       "</table>"
      ],
      "text/plain": [
       "[('Alice', 'James'), ('Nancy', 'Allen'), ('Ann', 'Jacob')]"
      ]
     },
     "execution_count": 42,
     "metadata": {},
     "output_type": "execute_result"
    }
   ],
   "source": [
    "%%sql\n",
    "\n",
    ";\n",
    "select F_NAME , L_NAME\n",
    "from EMPLOYEES\n",
    "where ADDRESS LIKE '%Elgin,IL%' ;"
   ]
  },
  {
   "cell_type": "markdown",
   "metadata": {},
   "source": [
    "### Retrieve all employees who were born during the 1970's."
   ]
  },
  {
   "cell_type": "code",
   "execution_count": 45,
   "metadata": {},
   "outputs": [
    {
     "name": "stdout",
     "output_type": "stream",
     "text": [
      " * sqlite://\n",
      "0 rows affected.\n",
      "Done.\n"
     ]
    },
    {
     "data": {
      "text/html": [
       "<table>\n",
       "    <tr>\n",
       "        <th>F_NAME</th>\n",
       "        <th>L_NAME</th>\n",
       "    </tr>\n",
       "    <tr>\n",
       "        <td>John</td>\n",
       "        <td>Thomas</td>\n",
       "    </tr>\n",
       "    <tr>\n",
       "        <td>Alice</td>\n",
       "        <td>James</td>\n",
       "    </tr>\n",
       "    <tr>\n",
       "        <td>Nancy</td>\n",
       "        <td>Allen</td>\n",
       "    </tr>\n",
       "    <tr>\n",
       "        <td>Mary</td>\n",
       "        <td>Thomas</td>\n",
       "    </tr>\n",
       "</table>"
      ],
      "text/plain": [
       "[('John', 'Thomas'),\n",
       " ('Alice', 'James'),\n",
       " ('Nancy', 'Allen'),\n",
       " ('Mary', 'Thomas')]"
      ]
     },
     "execution_count": 45,
     "metadata": {},
     "output_type": "execute_result"
    }
   ],
   "source": [
    "%%sql\n",
    "\n",
    ";\n",
    "select F_NAME , L_NAME\n",
    "from EMPLOYEES\n",
    "where B_DATE LIKE '%197%' ;"
   ]
  },
  {
   "cell_type": "markdown",
   "metadata": {},
   "source": [
    "###  Retrieve all employees in department 5 whose salary is between 60000 and 70000 "
   ]
  },
  {
   "cell_type": "code",
   "execution_count": 49,
   "metadata": {},
   "outputs": [
    {
     "name": "stdout",
     "output_type": "stream",
     "text": [
      " * sqlite://\n",
      "0 rows affected.\n",
      "Done.\n"
     ]
    },
    {
     "data": {
      "text/html": [
       "<table>\n",
       "    <tr>\n",
       "        <th>EMP_ID</th>\n",
       "        <th>F_NAME</th>\n",
       "        <th>L_NAME</th>\n",
       "        <th>SSN</th>\n",
       "        <th>B_DATE</th>\n",
       "        <th>SEX</th>\n",
       "        <th>ADDRESS</th>\n",
       "        <th>JOB_ID</th>\n",
       "        <th>SALARY</th>\n",
       "        <th>MANAGER_ID</th>\n",
       "        <th>DEP_ID</th>\n",
       "    </tr>\n",
       "    <tr>\n",
       "        <td>E1004</td>\n",
       "        <td>Santosh</td>\n",
       "        <td>Kumar</td>\n",
       "        <td>123459</td>\n",
       "        <td>07/20/1985</td>\n",
       "        <td>M</td>\n",
       "        <td>511 Aurora Av, Aurora,IL</td>\n",
       "        <td>400</td>\n",
       "        <td>60000</td>\n",
       "        <td>30004</td>\n",
       "        <td>5</td>\n",
       "    </tr>\n",
       "    <tr>\n",
       "        <td>E1010</td>\n",
       "        <td>Ann</td>\n",
       "        <td>Jacob</td>\n",
       "        <td>123415</td>\n",
       "        <td>03/30/1982</td>\n",
       "        <td>F</td>\n",
       "        <td>111 Britany Springs,Elgin,IL</td>\n",
       "        <td>220</td>\n",
       "        <td>70000</td>\n",
       "        <td>30004</td>\n",
       "        <td>5</td>\n",
       "    </tr>\n",
       "</table>"
      ],
      "text/plain": [
       "[('E1004', 'Santosh', 'Kumar', '123459', '07/20/1985', 'M', '511 Aurora Av, Aurora,IL', '400', 60000, '30004', '5'),\n",
       " ('E1010', 'Ann', 'Jacob', '123415', '03/30/1982', 'F', '111 Britany Springs,Elgin,IL', '220', 70000, '30004', '5')]"
      ]
     },
     "execution_count": 49,
     "metadata": {},
     "output_type": "execute_result"
    }
   ],
   "source": [
    "%%sql\n",
    "\n",
    ";\n",
    "select *\n",
    "from EMPLOYEES\n",
    "where SALARY BETWEEN 60000 and 70000 and DEP_ID = 5 ;"
   ]
  },
  {
   "cell_type": "markdown",
   "metadata": {},
   "source": [
    "###  Retrieve a list of employees ordered by department ID"
   ]
  },
  {
   "cell_type": "code",
   "execution_count": 50,
   "metadata": {},
   "outputs": [
    {
     "name": "stdout",
     "output_type": "stream",
     "text": [
      " * sqlite://\n",
      "0 rows affected.\n",
      "Done.\n"
     ]
    },
    {
     "data": {
      "text/html": [
       "<table>\n",
       "    <tr>\n",
       "        <th>F_NAME</th>\n",
       "        <th>L_NAME</th>\n",
       "        <th>DEP_ID</th>\n",
       "    </tr>\n",
       "    <tr>\n",
       "        <td>John</td>\n",
       "        <td>Thomas</td>\n",
       "        <td>2</td>\n",
       "    </tr>\n",
       "    <tr>\n",
       "        <td>Ahmed</td>\n",
       "        <td>Hussain</td>\n",
       "        <td>2</td>\n",
       "    </tr>\n",
       "    <tr>\n",
       "        <td>Nancy</td>\n",
       "        <td>Allen</td>\n",
       "        <td>2</td>\n",
       "    </tr>\n",
       "    <tr>\n",
       "        <td>Alice</td>\n",
       "        <td>James</td>\n",
       "        <td>5</td>\n",
       "    </tr>\n",
       "    <tr>\n",
       "        <td>Steve</td>\n",
       "        <td>Wells</td>\n",
       "        <td>5</td>\n",
       "    </tr>\n",
       "    <tr>\n",
       "        <td>Santosh</td>\n",
       "        <td>Kumar</td>\n",
       "        <td>5</td>\n",
       "    </tr>\n",
       "    <tr>\n",
       "        <td>Ann</td>\n",
       "        <td>Jacob</td>\n",
       "        <td>5</td>\n",
       "    </tr>\n",
       "    <tr>\n",
       "        <td>Mary</td>\n",
       "        <td>Thomas</td>\n",
       "        <td>7</td>\n",
       "    </tr>\n",
       "    <tr>\n",
       "        <td>Bharath</td>\n",
       "        <td>Gupta</td>\n",
       "        <td>7</td>\n",
       "    </tr>\n",
       "    <tr>\n",
       "        <td>Andrea</td>\n",
       "        <td>Jones</td>\n",
       "        <td>7</td>\n",
       "    </tr>\n",
       "</table>"
      ],
      "text/plain": [
       "[('John', 'Thomas', '2'),\n",
       " ('Ahmed', 'Hussain', '2'),\n",
       " ('Nancy', 'Allen', '2'),\n",
       " ('Alice', 'James', '5'),\n",
       " ('Steve', 'Wells', '5'),\n",
       " ('Santosh', 'Kumar', '5'),\n",
       " ('Ann', 'Jacob', '5'),\n",
       " ('Mary', 'Thomas', '7'),\n",
       " ('Bharath', 'Gupta', '7'),\n",
       " ('Andrea', 'Jones', '7')]"
      ]
     },
     "execution_count": 50,
     "metadata": {},
     "output_type": "execute_result"
    }
   ],
   "source": [
    "%%sql\n",
    "\n",
    ";\n",
    "select F_NAME, L_NAME, DEP_ID \n",
    "from EMPLOYEES\n",
    "order by DEP_ID;"
   ]
  },
  {
   "cell_type": "markdown",
   "metadata": {},
   "source": [
    "### Retrieve a list of employees ordered in descending order by department ID and within each department ordered alphabetically in descending order by last name."
   ]
  },
  {
   "cell_type": "code",
   "execution_count": 52,
   "metadata": {},
   "outputs": [
    {
     "name": "stdout",
     "output_type": "stream",
     "text": [
      " * sqlite://\n",
      "0 rows affected.\n",
      "Done.\n"
     ]
    },
    {
     "data": {
      "text/html": [
       "<table>\n",
       "    <tr>\n",
       "        <th>F_NAME</th>\n",
       "        <th>L_NAME</th>\n",
       "        <th>DEP_ID</th>\n",
       "    </tr>\n",
       "    <tr>\n",
       "        <td>Mary</td>\n",
       "        <td>Thomas</td>\n",
       "        <td>7</td>\n",
       "    </tr>\n",
       "    <tr>\n",
       "        <td>Andrea</td>\n",
       "        <td>Jones</td>\n",
       "        <td>7</td>\n",
       "    </tr>\n",
       "    <tr>\n",
       "        <td>Bharath</td>\n",
       "        <td>Gupta</td>\n",
       "        <td>7</td>\n",
       "    </tr>\n",
       "    <tr>\n",
       "        <td>Steve</td>\n",
       "        <td>Wells</td>\n",
       "        <td>5</td>\n",
       "    </tr>\n",
       "    <tr>\n",
       "        <td>Santosh</td>\n",
       "        <td>Kumar</td>\n",
       "        <td>5</td>\n",
       "    </tr>\n",
       "    <tr>\n",
       "        <td>Alice</td>\n",
       "        <td>James</td>\n",
       "        <td>5</td>\n",
       "    </tr>\n",
       "    <tr>\n",
       "        <td>Ann</td>\n",
       "        <td>Jacob</td>\n",
       "        <td>5</td>\n",
       "    </tr>\n",
       "    <tr>\n",
       "        <td>John</td>\n",
       "        <td>Thomas</td>\n",
       "        <td>2</td>\n",
       "    </tr>\n",
       "    <tr>\n",
       "        <td>Ahmed</td>\n",
       "        <td>Hussain</td>\n",
       "        <td>2</td>\n",
       "    </tr>\n",
       "    <tr>\n",
       "        <td>Nancy</td>\n",
       "        <td>Allen</td>\n",
       "        <td>2</td>\n",
       "    </tr>\n",
       "</table>"
      ],
      "text/plain": [
       "[('Mary', 'Thomas', '7'),\n",
       " ('Andrea', 'Jones', '7'),\n",
       " ('Bharath', 'Gupta', '7'),\n",
       " ('Steve', 'Wells', '5'),\n",
       " ('Santosh', 'Kumar', '5'),\n",
       " ('Alice', 'James', '5'),\n",
       " ('Ann', 'Jacob', '5'),\n",
       " ('John', 'Thomas', '2'),\n",
       " ('Ahmed', 'Hussain', '2'),\n",
       " ('Nancy', 'Allen', '2')]"
      ]
     },
     "execution_count": 52,
     "metadata": {},
     "output_type": "execute_result"
    }
   ],
   "source": [
    "%%sql\n",
    "\n",
    ";\n",
    "select F_NAME, L_NAME, DEP_ID \n",
    "from EMPLOYEES\n",
    "order by DEP_ID desc, L_NAME desc;"
   ]
  },
  {
   "cell_type": "markdown",
   "metadata": {},
   "source": [
    "### For each department ID retrieve the number of employees in the department"
   ]
  },
  {
   "cell_type": "code",
   "execution_count": 58,
   "metadata": {},
   "outputs": [
    {
     "name": "stdout",
     "output_type": "stream",
     "text": [
      " * sqlite://\n",
      "0 rows affected.\n",
      "Done.\n"
     ]
    },
    {
     "data": {
      "text/html": [
       "<table>\n",
       "    <tr>\n",
       "        <th>DEP_ID</th>\n",
       "        <th>COUNT(*)</th>\n",
       "    </tr>\n",
       "    <tr>\n",
       "        <td>2</td>\n",
       "        <td>3</td>\n",
       "    </tr>\n",
       "    <tr>\n",
       "        <td>5</td>\n",
       "        <td>4</td>\n",
       "    </tr>\n",
       "    <tr>\n",
       "        <td>7</td>\n",
       "        <td>3</td>\n",
       "    </tr>\n",
       "</table>"
      ],
      "text/plain": [
       "[('2', 3), ('5', 4), ('7', 3)]"
      ]
     },
     "execution_count": 58,
     "metadata": {},
     "output_type": "execute_result"
    }
   ],
   "source": [
    "%%sql\n",
    "\n",
    ";\n",
    "select DEP_ID, COUNT(*) \n",
    "from EMPLOYEES\n",
    "group by DEP_ID;"
   ]
  },
  {
   "cell_type": "markdown",
   "metadata": {},
   "source": [
    "### For each department retrieve the number of employees in the department, and the average employees salary in the department."
   ]
  },
  {
   "cell_type": "code",
   "execution_count": 57,
   "metadata": {},
   "outputs": [
    {
     "name": "stdout",
     "output_type": "stream",
     "text": [
      " * sqlite://\n",
      "0 rows affected.\n",
      "Done.\n"
     ]
    },
    {
     "data": {
      "text/html": [
       "<table>\n",
       "    <tr>\n",
       "        <th>DEP_ID</th>\n",
       "        <th>COUNT(*)</th>\n",
       "        <th>AVG(SALARY)</th>\n",
       "    </tr>\n",
       "    <tr>\n",
       "        <td>2</td>\n",
       "        <td>3</td>\n",
       "        <td>86666.66666666667</td>\n",
       "    </tr>\n",
       "    <tr>\n",
       "        <td>5</td>\n",
       "        <td>4</td>\n",
       "        <td>65000.0</td>\n",
       "    </tr>\n",
       "    <tr>\n",
       "        <td>7</td>\n",
       "        <td>3</td>\n",
       "        <td>66666.66666666667</td>\n",
       "    </tr>\n",
       "</table>"
      ],
      "text/plain": [
       "[('2', 3, 86666.66666666667), ('5', 4, 65000.0), ('7', 3, 66666.66666666667)]"
      ]
     },
     "execution_count": 57,
     "metadata": {},
     "output_type": "execute_result"
    }
   ],
   "source": [
    "%%sql\n",
    "\n",
    ";\n",
    "select DEP_ID, COUNT(*), AVG(SALARY)\n",
    "from EMPLOYEES\n",
    "group by DEP_ID;"
   ]
  },
  {
   "cell_type": "markdown",
   "metadata": {},
   "source": [
    "### Label the computed columns in the result set of last question as “NUM_EMPLOYEES” and “AVG_SALARY”."
   ]
  },
  {
   "cell_type": "code",
   "execution_count": 62,
   "metadata": {},
   "outputs": [
    {
     "name": "stdout",
     "output_type": "stream",
     "text": [
      " * sqlite://\n",
      "0 rows affected.\n",
      "Done.\n"
     ]
    },
    {
     "data": {
      "text/html": [
       "<table>\n",
       "    <tr>\n",
       "        <th>DEP_ID</th>\n",
       "        <th>NUM_EMPLOYEES</th>\n",
       "        <th>AVG_SALARY</th>\n",
       "    </tr>\n",
       "    <tr>\n",
       "        <td>2</td>\n",
       "        <td>3</td>\n",
       "        <td>86666.66666666667</td>\n",
       "    </tr>\n",
       "    <tr>\n",
       "        <td>5</td>\n",
       "        <td>4</td>\n",
       "        <td>65000.0</td>\n",
       "    </tr>\n",
       "    <tr>\n",
       "        <td>7</td>\n",
       "        <td>3</td>\n",
       "        <td>66666.66666666667</td>\n",
       "    </tr>\n",
       "</table>"
      ],
      "text/plain": [
       "[('2', 3, 86666.66666666667), ('5', 4, 65000.0), ('7', 3, 66666.66666666667)]"
      ]
     },
     "execution_count": 62,
     "metadata": {},
     "output_type": "execute_result"
    }
   ],
   "source": [
    "%%sql\n",
    "\n",
    ";\n",
    "select DEP_ID, COUNT(*) AS \"NUM_EMPLOYEES\", AVG(SALARY) AS \"AVG_SALARY\"\n",
    "from EMPLOYEES\n",
    "group by DEP_ID;"
   ]
  },
  {
   "cell_type": "markdown",
   "metadata": {},
   "source": [
    "###  In the last question order the result set by Average Salary."
   ]
  },
  {
   "cell_type": "code",
   "execution_count": 60,
   "metadata": {},
   "outputs": [
    {
     "name": "stdout",
     "output_type": "stream",
     "text": [
      " * sqlite://\n",
      "0 rows affected.\n",
      "Done.\n"
     ]
    },
    {
     "data": {
      "text/html": [
       "<table>\n",
       "    <tr>\n",
       "        <th>DEP_ID</th>\n",
       "        <th>NUM_EMPLOYEES</th>\n",
       "        <th>AVG_SALARY</th>\n",
       "    </tr>\n",
       "    <tr>\n",
       "        <td>5</td>\n",
       "        <td>4</td>\n",
       "        <td>65000.0</td>\n",
       "    </tr>\n",
       "    <tr>\n",
       "        <td>7</td>\n",
       "        <td>3</td>\n",
       "        <td>66666.66666666667</td>\n",
       "    </tr>\n",
       "    <tr>\n",
       "        <td>2</td>\n",
       "        <td>3</td>\n",
       "        <td>86666.66666666667</td>\n",
       "    </tr>\n",
       "</table>"
      ],
      "text/plain": [
       "[('5', 4, 65000.0), ('7', 3, 66666.66666666667), ('2', 3, 86666.66666666667)]"
      ]
     },
     "execution_count": 60,
     "metadata": {},
     "output_type": "execute_result"
    }
   ],
   "source": [
    "%%sql\n",
    "\n",
    ";\n",
    "select DEP_ID, COUNT(*) AS \"NUM_EMPLOYEES\", AVG(SALARY) AS \"AVG_SALARY\"\n",
    "from EMPLOYEES\n",
    "group by DEP_ID\n",
    "order by AVG_SALARY;"
   ]
  },
  {
   "cell_type": "markdown",
   "metadata": {},
   "source": [
    " ### In the last question limit the result to departments with fewer than 4 employees."
   ]
  },
  {
   "cell_type": "code",
   "execution_count": 63,
   "metadata": {},
   "outputs": [
    {
     "name": "stdout",
     "output_type": "stream",
     "text": [
      " * sqlite://\n",
      "0 rows affected.\n",
      "Done.\n"
     ]
    },
    {
     "data": {
      "text/html": [
       "<table>\n",
       "    <tr>\n",
       "        <th>DEP_ID</th>\n",
       "        <th>NUM_EMPLOYEES</th>\n",
       "        <th>AVG_SALARY</th>\n",
       "    </tr>\n",
       "    <tr>\n",
       "        <td>7</td>\n",
       "        <td>3</td>\n",
       "        <td>66666.66666666667</td>\n",
       "    </tr>\n",
       "    <tr>\n",
       "        <td>2</td>\n",
       "        <td>3</td>\n",
       "        <td>86666.66666666667</td>\n",
       "    </tr>\n",
       "</table>"
      ],
      "text/plain": [
       "[('7', 3, 66666.66666666667), ('2', 3, 86666.66666666667)]"
      ]
     },
     "execution_count": 63,
     "metadata": {},
     "output_type": "execute_result"
    }
   ],
   "source": [
    "%%sql\n",
    "\n",
    ";\n",
    "select DEP_ID, COUNT(*) AS \"NUM_EMPLOYEES\", AVG(SALARY) AS \"AVG_SALARY\"\n",
    "from EMPLOYEES\n",
    "group by DEP_ID\n",
    "having count(*) < 4\n",
    "order by AVG_SALARY;"
   ]
  },
  {
   "cell_type": "markdown",
   "metadata": {},
   "source": [
    "### if you want to use the label"
   ]
  },
  {
   "cell_type": "code",
   "execution_count": 64,
   "metadata": {},
   "outputs": [
    {
     "name": "stdout",
     "output_type": "stream",
     "text": [
      " * sqlite://\n",
      "0 rows affected.\n",
      "Done.\n"
     ]
    },
    {
     "data": {
      "text/html": [
       "<table>\n",
       "    <tr>\n",
       "        <th>DEP_ID</th>\n",
       "        <th>NUM_EMPLOYEES</th>\n",
       "        <th>AVG_SALARY</th>\n",
       "    </tr>\n",
       "    <tr>\n",
       "        <td>7</td>\n",
       "        <td>3</td>\n",
       "        <td>66666.66666666667</td>\n",
       "    </tr>\n",
       "    <tr>\n",
       "        <td>2</td>\n",
       "        <td>3</td>\n",
       "        <td>86666.66666666667</td>\n",
       "    </tr>\n",
       "</table>"
      ],
      "text/plain": [
       "[('7', 3, 66666.66666666667), ('2', 3, 86666.66666666667)]"
      ]
     },
     "execution_count": 64,
     "metadata": {},
     "output_type": "execute_result"
    }
   ],
   "source": [
    "%%sql\n",
    "\n",
    ";\n",
    "select DEP_ID, NUM_EMPLOYEES, AVG_SALARY from\n",
    "  ( select DEP_ID, COUNT(*) AS NUM_EMPLOYEES, AVG(SALARY) AS AVG_SALARY from EMPLOYEES group by DEP_ID)\n",
    "  where NUM_EMPLOYEES < 4\n",
    "order by AVG_SALARY;"
   ]
  },
  {
   "cell_type": "markdown",
   "metadata": {},
   "source": [
    "### Retrieve a list of employees ordered by department name, and within each department ordered alphabetically in descending order by last name.\n",
    "_Obs: Department name is in the DEPARTMENTS table. So your query will need to\n",
    "retrieve data from more than one table_"
   ]
  },
  {
   "cell_type": "code",
   "execution_count": 65,
   "metadata": {},
   "outputs": [
    {
     "name": "stdout",
     "output_type": "stream",
     "text": [
      " * sqlite://\n",
      "0 rows affected.\n",
      "Done.\n"
     ]
    },
    {
     "data": {
      "text/html": [
       "<table>\n",
       "    <tr>\n",
       "        <th>DEP_NAME</th>\n",
       "        <th>F_NAME</th>\n",
       "        <th>L_NAME</th>\n",
       "    </tr>\n",
       "    <tr>\n",
       "        <td>Architect Group</td>\n",
       "        <td>John</td>\n",
       "        <td>Thomas</td>\n",
       "    </tr>\n",
       "    <tr>\n",
       "        <td>Architect Group</td>\n",
       "        <td>Ahmed</td>\n",
       "        <td>Hussain</td>\n",
       "    </tr>\n",
       "    <tr>\n",
       "        <td>Architect Group</td>\n",
       "        <td>Nancy</td>\n",
       "        <td>Allen</td>\n",
       "    </tr>\n",
       "    <tr>\n",
       "        <td>Design Team</td>\n",
       "        <td>Mary</td>\n",
       "        <td>Thomas</td>\n",
       "    </tr>\n",
       "    <tr>\n",
       "        <td>Design Team</td>\n",
       "        <td>Andrea</td>\n",
       "        <td>Jones</td>\n",
       "    </tr>\n",
       "    <tr>\n",
       "        <td>Design Team</td>\n",
       "        <td>Bharath</td>\n",
       "        <td>Gupta</td>\n",
       "    </tr>\n",
       "    <tr>\n",
       "        <td>Software Group</td>\n",
       "        <td>Steve</td>\n",
       "        <td>Wells</td>\n",
       "    </tr>\n",
       "    <tr>\n",
       "        <td>Software Group</td>\n",
       "        <td>Santosh</td>\n",
       "        <td>Kumar</td>\n",
       "    </tr>\n",
       "    <tr>\n",
       "        <td>Software Group</td>\n",
       "        <td>Alice</td>\n",
       "        <td>James</td>\n",
       "    </tr>\n",
       "    <tr>\n",
       "        <td>Software Group</td>\n",
       "        <td>Ann</td>\n",
       "        <td>Jacob</td>\n",
       "    </tr>\n",
       "</table>"
      ],
      "text/plain": [
       "[('Architect Group', 'John', 'Thomas'),\n",
       " ('Architect Group', 'Ahmed', 'Hussain'),\n",
       " ('Architect Group', 'Nancy', 'Allen'),\n",
       " ('Design Team', 'Mary', 'Thomas'),\n",
       " ('Design Team', 'Andrea', 'Jones'),\n",
       " ('Design Team', 'Bharath', 'Gupta'),\n",
       " ('Software Group', 'Steve', 'Wells'),\n",
       " ('Software Group', 'Santosh', 'Kumar'),\n",
       " ('Software Group', 'Alice', 'James'),\n",
       " ('Software Group', 'Ann', 'Jacob')]"
      ]
     },
     "execution_count": 65,
     "metadata": {},
     "output_type": "execute_result"
    }
   ],
   "source": [
    "%%sql\n",
    "\n",
    ";\n",
    "select D.DEP_NAME , E.F_NAME, E.L_NAME\n",
    "from EMPLOYEES as E, DEPARTMENTS as D\n",
    "where E.DEP_ID = D.DEPT_ID_DEP\n",
    "order by D.DEP_NAME, E.L_NAME desc ;"
   ]
  }
 ],
 "metadata": {
  "kernelspec": {
   "display_name": "Python 3",
   "language": "python",
   "name": "python3"
  },
  "language_info": {
   "codemirror_mode": {
    "name": "ipython",
    "version": 3
   },
   "file_extension": ".py",
   "mimetype": "text/x-python",
   "name": "python",
   "nbconvert_exporter": "python",
   "pygments_lexer": "ipython3",
   "version": "3.6.5"
  }
 },
 "nbformat": 4,
 "nbformat_minor": 2
}
