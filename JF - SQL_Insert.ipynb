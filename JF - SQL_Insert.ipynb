{
 "cells": [
  {
   "cell_type": "markdown",
   "metadata": {},
   "source": [
    "DML - Data Manipulation Statement (SQL)"
   ]
  },
  {
   "cell_type": "markdown",
   "metadata": {},
   "source": [
    "Insert Statement - add rows to the table _Don't run the cells_"
   ]
  },
  {
   "cell_type": "code",
   "execution_count": null,
   "metadata": {},
   "outputs": [],
   "source": [
    "Sintax: \n",
    "\n",
    "INSERT INTO (TABLE NAME)\n",
    "<([Column Name], ... )>\n",
    "VALUES([VALUE], ... )"
   ]
  },
  {
   "cell_type": "code",
   "execution_count": null,
   "metadata": {},
   "outputs": [],
   "source": [
    "Example\n",
    "\n",
    "INSERT INTO AUTHOR\n",
    "(AUTHOR_ID, LASTNAME, FIRSTNAME, EMAIL CITY, COUNTRY)\n",
    "VALUES\n",
    "('A1', 'CHONG', 'RAUL', 'RFC@GMAIL.COM', 'TORONTO', 'CA')"
   ]
  },
  {
   "cell_type": "code",
   "execution_count": null,
   "metadata": {},
   "outputs": [],
   "source": [
    "you can inset multiple rows\n",
    "\n",
    "INSERT INTO AUTHOR\n",
    "(AUTHOR_ID, LASTNAME, FIRSTNAME, EMAIL CITY, COUNTRY)\n",
    "VALUES\n",
    "('A1', 'CHONG', 'RAUL', 'RFC@GMAIL.COM', 'TORONTO', 'CA'),\n",
    "('A2', 'DAMON', 'MATT', 'GHT@GMAIL.COM', 'NYC', 'US')"
   ]
  }
 ],
 "metadata": {
  "kernelspec": {
   "display_name": "Python 3",
   "language": "python",
   "name": "python3"
  },
  "language_info": {
   "codemirror_mode": {
    "name": "ipython",
    "version": 3
   },
   "file_extension": ".py",
   "mimetype": "text/x-python",
   "name": "python",
   "nbconvert_exporter": "python",
   "pygments_lexer": "ipython3",
   "version": "3.6.5"
  }
 },
 "nbformat": 4,
 "nbformat_minor": 2
}
