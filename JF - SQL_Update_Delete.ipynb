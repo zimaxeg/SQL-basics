{
 "cells": [
  {
   "cell_type": "markdown",
   "metadata": {},
   "source": [
    "### Update and Delete Statement ( SQL ) + Where clause"
   ]
  },
  {
   "cell_type": "code",
   "execution_count": null,
   "metadata": {},
   "outputs": [],
   "source": [
    "Sintax\n",
    "\n",
    "UPDATE [Table name]\n",
    "SET [[ColumnName] = [Value]]\n",
    "<WHERE[Condition]>"
   ]
  },
  {
   "cell_type": "code",
   "execution_count": null,
   "metadata": {},
   "outputs": [],
   "source": [
    "Exemplo\n",
    "\n",
    "UPDATE AUTHOR\n",
    "SET     LASTNAME = GRANDE\n",
    "        FIRSTNAME = ARIANA\n",
    "WHERE AUTOR_ID = A2"
   ]
  },
  {
   "cell_type": "markdown",
   "metadata": {},
   "source": [
    "Delete statement"
   ]
  },
  {
   "cell_type": "code",
   "execution_count": null,
   "metadata": {},
   "outputs": [],
   "source": [
    "Sintax\n",
    "\n",
    "DELETE from [TABLENAME]\n",
    "WHERE[Condition]"
   ]
  },
  {
   "cell_type": "code",
   "execution_count": null,
   "metadata": {},
   "outputs": [],
   "source": [
    "Exemplo\n",
    "\n",
    "DELETE FROM  AUTHOR\n",
    "WHERE AUTOR_ID IN('A2','A3')"
   ]
  },
  {
   "cell_type": "markdown",
   "metadata": {},
   "source": [
    "If no where clause is used, all rows are deleted"
   ]
  },
  {
   "cell_type": "code",
   "execution_count": null,
   "metadata": {},
   "outputs": [],
   "source": []
  }
 ],
 "metadata": {
  "kernelspec": {
   "display_name": "Python 3",
   "language": "python",
   "name": "python3"
  },
  "language_info": {
   "codemirror_mode": {
    "name": "ipython",
    "version": 3
   },
   "file_extension": ".py",
   "mimetype": "text/x-python",
   "name": "python",
   "nbconvert_exporter": "python",
   "pygments_lexer": "ipython3",
   "version": "3.6.5"
  }
 },
 "nbformat": 4,
 "nbformat_minor": 2
}
